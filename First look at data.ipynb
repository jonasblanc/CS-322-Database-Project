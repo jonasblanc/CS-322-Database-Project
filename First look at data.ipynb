{
 "cells": [
  {
   "cell_type": "code",
   "execution_count": 13,
   "id": "german-punishment",
   "metadata": {},
   "outputs": [],
   "source": [
    "import pandas as pd\n",
    "import numpy as np"
   ]
  },
  {
   "cell_type": "markdown",
   "id": "buried-gasoline",
   "metadata": {},
   "source": [
    "dtype={\n",
    "    'at_fault': bool,\n",
    "    'case_id': int,\n",
    "    'cellphone_use': str,\n",
    "    'cellphone_use': str,\n",
    "    'financial_responsibility': str,\n",
    "    'hazardous_materials': str,\n",
    "    'id': int,\n",
    "    'movement_preceding_collision': str,\n",
    "    'other_associate_factor_1': str,\n",
    "    'other_associate_factor_2': str,\n",
    "    'party_age': int,\n",
    "    'party_drug_physical': str,\n",
    "    'party_number': int,\n",
    "    'party_safety_equipment_1': str,\n",
    "    'party_safety_equipment_2': str,\n",
    "    'party_sex': str,\n",
    "    'party_sobriety': str,\n",
    "    'party_type': str,\n",
    "    'school_bus_related': str,\n",
    "    'statewide_vehicle_type': str,\n",
    "    'statewide_vehicle_type': str,\n",
    "    'statewide_vehicle_type': str,\n",
    " 'statewide_vehicle_type': str,\n",
    "}"
   ]
  },
  {
   "cell_type": "code",
   "execution_count": 59,
   "id": "extensive-administration",
   "metadata": {},
   "outputs": [
    {
     "name": "stderr",
     "output_type": "stream",
     "text": [
      "/usr/local/Caskroom/miniconda/base/envs/DatabaseEnv/lib/python3.9/site-packages/IPython/core/interactiveshell.py:3165: DtypeWarning: Columns (4,13,17) have mixed types.Specify dtype option on import or set low_memory=False.\n",
      "  has_raised = await self.run_ast_nodes(code_ast.body, cell_name,\n"
     ]
    }
   ],
   "source": [
    "parties_data = pd.read_csv(\"CSV-2018/parties2018.csv\") "
   ]
  },
  {
   "cell_type": "code",
   "execution_count": 60,
   "id": "violent-beaver",
   "metadata": {},
   "outputs": [
    {
     "name": "stderr",
     "output_type": "stream",
     "text": [
      "/usr/local/Caskroom/miniconda/base/envs/DatabaseEnv/lib/python3.9/site-packages/IPython/core/interactiveshell.py:3165: DtypeWarning: Columns (8) have mixed types.Specify dtype option on import or set low_memory=False.\n",
      "  has_raised = await self.run_ast_nodes(code_ast.body, cell_name,\n"
     ]
    }
   ],
   "source": [
    "victims_data = pd.read_csv(\"CSV-2018/victims2018.csv\") "
   ]
  },
  {
   "cell_type": "code",
   "execution_count": 61,
   "id": "expressed-donna",
   "metadata": {},
   "outputs": [
    {
     "name": "stderr",
     "output_type": "stream",
     "text": [
      "/usr/local/Caskroom/miniconda/base/envs/DatabaseEnv/lib/python3.9/site-packages/IPython/core/interactiveshell.py:3165: DtypeWarning: Columns (9) have mixed types.Specify dtype option on import or set low_memory=False.\n",
      "  has_raised = await self.run_ast_nodes(code_ast.body, cell_name,\n"
     ]
    }
   ],
   "source": [
    "collisions_data = pd.read_csv(\"CSV-2018/collisions2018.csv\") "
   ]
  },
  {
   "cell_type": "code",
   "execution_count": 40,
   "id": "automatic-plasma",
   "metadata": {},
   "outputs": [],
   "source": [
    "case_id = 5\n",
    "parties_data_case = parties_data[parties_data[\"case_id\"] == case_id]\n",
    "victims_data_case = victims_data[victims_data[\"case_id\"] == case_id]\n",
    "collisions_data_case = collisions_data[collisions_data[\"case_id\"] == case_id]"
   ]
  },
  {
   "cell_type": "code",
   "execution_count": 41,
   "id": "desperate-patrick",
   "metadata": {},
   "outputs": [
    {
     "data": {
      "text/html": [
       "<div>\n",
       "<style scoped>\n",
       "    .dataframe tbody tr th:only-of-type {\n",
       "        vertical-align: middle;\n",
       "    }\n",
       "\n",
       "    .dataframe tbody tr th {\n",
       "        vertical-align: top;\n",
       "    }\n",
       "\n",
       "    .dataframe thead th {\n",
       "        text-align: right;\n",
       "    }\n",
       "</style>\n",
       "<table border=\"1\" class=\"dataframe\">\n",
       "  <thead>\n",
       "    <tr style=\"text-align: right;\">\n",
       "      <th></th>\n",
       "      <th>at_fault</th>\n",
       "      <th>case_id</th>\n",
       "      <th>cellphone_use</th>\n",
       "      <th>financial_responsibility</th>\n",
       "      <th>hazardous_materials</th>\n",
       "      <th>id</th>\n",
       "      <th>movement_preceding_collision</th>\n",
       "      <th>other_associate_factor_1</th>\n",
       "      <th>other_associate_factor_2</th>\n",
       "      <th>party_age</th>\n",
       "      <th>...</th>\n",
       "      <th>party_number</th>\n",
       "      <th>party_safety_equipment_1</th>\n",
       "      <th>party_safety_equipment_2</th>\n",
       "      <th>party_sex</th>\n",
       "      <th>party_sobriety</th>\n",
       "      <th>party_type</th>\n",
       "      <th>school_bus_related</th>\n",
       "      <th>statewide_vehicle_type</th>\n",
       "      <th>vehicle_make</th>\n",
       "      <th>vehicle_year</th>\n",
       "    </tr>\n",
       "  </thead>\n",
       "  <tbody>\n",
       "    <tr>\n",
       "      <th>7</th>\n",
       "      <td>1</td>\n",
       "      <td>5.0</td>\n",
       "      <td>D</td>\n",
       "      <td>Y</td>\n",
       "      <td>NaN</td>\n",
       "      <td>15</td>\n",
       "      <td>proceeding straight</td>\n",
       "      <td>N</td>\n",
       "      <td>NaN</td>\n",
       "      <td>44.0</td>\n",
       "      <td>...</td>\n",
       "      <td>1</td>\n",
       "      <td>G</td>\n",
       "      <td>NaN</td>\n",
       "      <td>male</td>\n",
       "      <td>A</td>\n",
       "      <td>driver</td>\n",
       "      <td>NaN</td>\n",
       "      <td>truck or truck tractor with trailer</td>\n",
       "      <td>FREIGHTLINER</td>\n",
       "      <td>2001.0</td>\n",
       "    </tr>\n",
       "  </tbody>\n",
       "</table>\n",
       "<p>1 rows × 21 columns</p>\n",
       "</div>"
      ],
      "text/plain": [
       "   at_fault  case_id cellphone_use financial_responsibility  \\\n",
       "7         1      5.0             D                        Y   \n",
       "\n",
       "  hazardous_materials  id movement_preceding_collision  \\\n",
       "7                 NaN  15          proceeding straight   \n",
       "\n",
       "  other_associate_factor_1 other_associate_factor_2  party_age  ...  \\\n",
       "7                        N                      NaN       44.0  ...   \n",
       "\n",
       "  party_number  party_safety_equipment_1 party_safety_equipment_2 party_sex  \\\n",
       "7            1                         G                      NaN      male   \n",
       "\n",
       "  party_sobriety party_type school_bus_related  \\\n",
       "7              A     driver                NaN   \n",
       "\n",
       "                statewide_vehicle_type  vehicle_make vehicle_year  \n",
       "7  truck or truck tractor with trailer  FREIGHTLINER       2001.0  \n",
       "\n",
       "[1 rows x 21 columns]"
      ]
     },
     "execution_count": 41,
     "metadata": {},
     "output_type": "execute_result"
    }
   ],
   "source": [
    "parties_data_case"
   ]
  },
  {
   "cell_type": "code",
   "execution_count": 42,
   "id": "private-elevation",
   "metadata": {},
   "outputs": [
    {
     "data": {
      "text/html": [
       "<div>\n",
       "<style scoped>\n",
       "    .dataframe tbody tr th:only-of-type {\n",
       "        vertical-align: middle;\n",
       "    }\n",
       "\n",
       "    .dataframe tbody tr th {\n",
       "        vertical-align: top;\n",
       "    }\n",
       "\n",
       "    .dataframe thead th {\n",
       "        text-align: right;\n",
       "    }\n",
       "</style>\n",
       "<table border=\"1\" class=\"dataframe\">\n",
       "  <thead>\n",
       "    <tr style=\"text-align: right;\">\n",
       "      <th></th>\n",
       "      <th>case_id</th>\n",
       "      <th>id</th>\n",
       "      <th>party_number</th>\n",
       "      <th>victim_age</th>\n",
       "      <th>victim_degree_of_injury</th>\n",
       "      <th>victim_ejected</th>\n",
       "      <th>victim_role</th>\n",
       "      <th>victim_safety_equipment_1</th>\n",
       "      <th>victim_safety_equipment_2</th>\n",
       "      <th>victim_seating_position</th>\n",
       "      <th>victim_sex</th>\n",
       "    </tr>\n",
       "  </thead>\n",
       "  <tbody>\n",
       "    <tr>\n",
       "      <th>1</th>\n",
       "      <td>5.0</td>\n",
       "      <td>4</td>\n",
       "      <td>1</td>\n",
       "      <td>44.0</td>\n",
       "      <td>severe injury</td>\n",
       "      <td>0.0</td>\n",
       "      <td>1</td>\n",
       "      <td>G</td>\n",
       "      <td>NaN</td>\n",
       "      <td>1.0</td>\n",
       "      <td>male</td>\n",
       "    </tr>\n",
       "  </tbody>\n",
       "</table>\n",
       "</div>"
      ],
      "text/plain": [
       "   case_id  id  party_number  victim_age victim_degree_of_injury  \\\n",
       "1      5.0   4             1        44.0           severe injury   \n",
       "\n",
       "   victim_ejected  victim_role victim_safety_equipment_1  \\\n",
       "1             0.0            1                         G   \n",
       "\n",
       "  victim_safety_equipment_2  victim_seating_position victim_sex  \n",
       "1                       NaN                      1.0       male  "
      ]
     },
     "execution_count": 42,
     "metadata": {},
     "output_type": "execute_result"
    }
   ],
   "source": [
    "victims_data_case"
   ]
  },
  {
   "cell_type": "code",
   "execution_count": 43,
   "id": "functional-catalyst",
   "metadata": {},
   "outputs": [
    {
     "data": {
      "text/html": [
       "<div>\n",
       "<style scoped>\n",
       "    .dataframe tbody tr th:only-of-type {\n",
       "        vertical-align: middle;\n",
       "    }\n",
       "\n",
       "    .dataframe tbody tr th {\n",
       "        vertical-align: top;\n",
       "    }\n",
       "\n",
       "    .dataframe thead th {\n",
       "        text-align: right;\n",
       "    }\n",
       "</style>\n",
       "<table border=\"1\" class=\"dataframe\">\n",
       "  <thead>\n",
       "    <tr style=\"text-align: right;\">\n",
       "      <th></th>\n",
       "      <th>case_id</th>\n",
       "      <th>collision_date</th>\n",
       "      <th>collision_severity</th>\n",
       "      <th>collision_time</th>\n",
       "      <th>county_city_location</th>\n",
       "      <th>hit_and_run</th>\n",
       "      <th>jurisdiction</th>\n",
       "      <th>lighting</th>\n",
       "      <th>location_type</th>\n",
       "      <th>officer_id</th>\n",
       "      <th>...</th>\n",
       "      <th>primary_collision_factor</th>\n",
       "      <th>process_date</th>\n",
       "      <th>ramp_intersection</th>\n",
       "      <th>road_condition_1</th>\n",
       "      <th>road_condition_2</th>\n",
       "      <th>road_surface</th>\n",
       "      <th>tow_away</th>\n",
       "      <th>type_of_collision</th>\n",
       "      <th>weather_1</th>\n",
       "      <th>weather_2</th>\n",
       "    </tr>\n",
       "  </thead>\n",
       "  <tbody>\n",
       "    <tr>\n",
       "      <th>4</th>\n",
       "      <td>5.0</td>\n",
       "      <td>2002-02-14</td>\n",
       "      <td>severe injury</td>\n",
       "      <td>11:35:00</td>\n",
       "      <td>1500</td>\n",
       "      <td>not hit and run</td>\n",
       "      <td>9420.0</td>\n",
       "      <td>daylight</td>\n",
       "      <td>NaN</td>\n",
       "      <td>13851</td>\n",
       "      <td>...</td>\n",
       "      <td>vehicle code violation</td>\n",
       "      <td>2003-07-28</td>\n",
       "      <td>NaN</td>\n",
       "      <td>normal</td>\n",
       "      <td>NaN</td>\n",
       "      <td>dry</td>\n",
       "      <td>1.0</td>\n",
       "      <td>overturned</td>\n",
       "      <td>clear</td>\n",
       "      <td>NaN</td>\n",
       "    </tr>\n",
       "  </tbody>\n",
       "</table>\n",
       "<p>1 rows × 24 columns</p>\n",
       "</div>"
      ],
      "text/plain": [
       "   case_id collision_date collision_severity collision_time  \\\n",
       "4      5.0     2002-02-14      severe injury       11:35:00   \n",
       "\n",
       "   county_city_location      hit_and_run  jurisdiction  lighting  \\\n",
       "4                  1500  not hit and run        9420.0  daylight   \n",
       "\n",
       "  location_type officer_id  ...  primary_collision_factor process_date  \\\n",
       "4           NaN      13851  ...    vehicle code violation   2003-07-28   \n",
       "\n",
       "  ramp_intersection  road_condition_1 road_condition_2 road_surface  tow_away  \\\n",
       "4               NaN            normal              NaN          dry       1.0   \n",
       "\n",
       "  type_of_collision weather_1 weather_2  \n",
       "4        overturned     clear       NaN  \n",
       "\n",
       "[1 rows x 24 columns]"
      ]
     },
     "execution_count": 43,
     "metadata": {},
     "output_type": "execute_result"
    }
   ],
   "source": [
    "collisions_data_case"
   ]
  },
  {
   "cell_type": "code",
   "execution_count": 86,
   "id": "comfortable-victory",
   "metadata": {},
   "outputs": [],
   "source": [
    "options = [\"B\", \"C\", \"D\", None]\n",
    "parties_data_test = parties_data[~(parties_data[\"cellphone_use\"].isin(options) | parties_data[\"cellphone_use\"].isnull().values.any())]\n",
    "\n"
   ]
  },
  {
   "cell_type": "code",
   "execution_count": 87,
   "id": "hydraulic-economy",
   "metadata": {},
   "outputs": [
    {
     "data": {
      "text/html": [
       "<div>\n",
       "<style scoped>\n",
       "    .dataframe tbody tr th:only-of-type {\n",
       "        vertical-align: middle;\n",
       "    }\n",
       "\n",
       "    .dataframe tbody tr th {\n",
       "        vertical-align: top;\n",
       "    }\n",
       "\n",
       "    .dataframe thead th {\n",
       "        text-align: right;\n",
       "    }\n",
       "</style>\n",
       "<table border=\"1\" class=\"dataframe\">\n",
       "  <thead>\n",
       "    <tr style=\"text-align: right;\">\n",
       "      <th></th>\n",
       "      <th>at_fault</th>\n",
       "      <th>case_id</th>\n",
       "      <th>cellphone_use</th>\n",
       "      <th>financial_responsibility</th>\n",
       "      <th>hazardous_materials</th>\n",
       "      <th>id</th>\n",
       "      <th>movement_preceding_collision</th>\n",
       "      <th>other_associate_factor_1</th>\n",
       "      <th>other_associate_factor_2</th>\n",
       "      <th>party_age</th>\n",
       "      <th>...</th>\n",
       "      <th>party_number</th>\n",
       "      <th>party_safety_equipment_1</th>\n",
       "      <th>party_safety_equipment_2</th>\n",
       "      <th>party_sex</th>\n",
       "      <th>party_sobriety</th>\n",
       "      <th>party_type</th>\n",
       "      <th>school_bus_related</th>\n",
       "      <th>statewide_vehicle_type</th>\n",
       "      <th>vehicle_make</th>\n",
       "      <th>vehicle_year</th>\n",
       "    </tr>\n",
       "  </thead>\n",
       "  <tbody>\n",
       "  </tbody>\n",
       "</table>\n",
       "<p>0 rows × 21 columns</p>\n",
       "</div>"
      ],
      "text/plain": [
       "Empty DataFrame\n",
       "Columns: [at_fault, case_id, cellphone_use, financial_responsibility, hazardous_materials, id, movement_preceding_collision, other_associate_factor_1, other_associate_factor_2, party_age, party_drug_physical, party_number, party_safety_equipment_1, party_safety_equipment_2, party_sex, party_sobriety, party_type, school_bus_related, statewide_vehicle_type, vehicle_make, vehicle_year]\n",
       "Index: []\n",
       "\n",
       "[0 rows x 21 columns]"
      ]
     },
     "execution_count": 87,
     "metadata": {},
     "output_type": "execute_result"
    }
   ],
   "source": [
    "parties_data_test"
   ]
  },
  {
   "cell_type": "code",
   "execution_count": 68,
   "id": "purple-titanium",
   "metadata": {},
   "outputs": [
    {
     "data": {
      "text/plain": [
       "7286606"
      ]
     },
     "execution_count": 68,
     "metadata": {},
     "output_type": "execute_result"
    }
   ],
   "source": [
    "len(parties_data)"
   ]
  },
  {
   "cell_type": "code",
   "execution_count": null,
   "id": "necessary-interim",
   "metadata": {},
   "outputs": [],
   "source": []
  }
 ],
 "metadata": {
  "kernelspec": {
   "display_name": "Python 3",
   "language": "python",
   "name": "python3"
  },
  "language_info": {
   "codemirror_mode": {
    "name": "ipython",
    "version": 3
   },
   "file_extension": ".py",
   "mimetype": "text/x-python",
   "name": "python",
   "nbconvert_exporter": "python",
   "pygments_lexer": "ipython3",
   "version": "3.9.2"
  }
 },
 "nbformat": 4,
 "nbformat_minor": 5
}
