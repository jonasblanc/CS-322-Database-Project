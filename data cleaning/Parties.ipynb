{
 "cells": [
  {
   "cell_type": "markdown",
   "id": "capable-youth",
   "metadata": {},
   "source": [
    "# Parties"
   ]
  },
  {
   "cell_type": "markdown",
   "id": "digital-capital",
   "metadata": {},
   "source": [
    "# Different attributes "
   ]
  },
  {
   "cell_type": "code",
   "execution_count": 1,
   "id": "desperate-delay",
   "metadata": {},
   "outputs": [
    {
     "ename": "SyntaxError",
     "evalue": "invalid syntax (<ipython-input-1-16baf1a0f8e9>, line 1)",
     "output_type": "error",
     "traceback": [
      "\u001b[0;36m  File \u001b[0;32m\"<ipython-input-1-16baf1a0f8e9>\"\u001b[0;36m, line \u001b[0;32m1\u001b[0m\n\u001b[0;31m    'at_fault': #OK\u001b[0m\n\u001b[0m                ^\u001b[0m\n\u001b[0;31mSyntaxError\u001b[0m\u001b[0;31m:\u001b[0m invalid syntax\n"
     ]
    }
   ],
   "source": [
    "'at_fault': #OK\n",
    "'case_id': #OK\n",
    "'cellphone_use': # Problem: une chiée de '1', '2', '3' => deviner à quoi ça correspond ?? \n",
    "'financial_responsibility': #OK\n",
    "'hazardous_materials': #OK,\n",
    "'id': #OK\n",
    "'movement_preceding_collision': #OK\n",
    "'other_associate_factor_1': #OK,\n",
    "'other_associate_factor_2': #OK,\n",
    "'party_age': pd.Int16Dtype(), # Problem: interpretation age 999 => pregnant\n",
    "'party_drug_physical': str, # Problem: 585062 rows with G corresponding to nothing => replace by None ? \n",
    "'party_number': #OK\n",
    "'party_safety_equipment_1': #OK,\n",
    "'party_safety_equipment_2': #OK,\n",
    "'party_sex': #OK\n",
    "'party_sobriety': #OK\n",
    "'party_type': #OK\n",
    "'school_bus_related': #OK\n",
    "'statewide_vehicle_type': #OK\n",
    "'vehicle_make': # Koi kil faut check ?\n",
    "'vehicle_year':#OK,"
   ]
  },
  {
   "cell_type": "code",
   "execution_count": 1,
   "id": "present-citizen",
   "metadata": {},
   "outputs": [],
   "source": [
    "import pandas as pd\n",
    "import numpy as np"
   ]
  },
  {
   "cell_type": "code",
   "execution_count": 2,
   "id": "nonprofit-lingerie",
   "metadata": {},
   "outputs": [],
   "source": [
    "import pickle\n",
    "import json\n",
    "\n",
    "def save_obj(obj, name ):\n",
    "    with open('obj/'+ name + '.pkl', 'wb') as f:\n",
    "        pickle.dump(obj, f, pickle.HIGHEST_PROTOCOL)\n",
    "\n",
    "def load_obj(name):\n",
    "    with open('obj/' + name + '.pkl', 'rb') as f:\n",
    "        return pickle.load(f)"
   ]
  },
  {
   "cell_type": "code",
   "execution_count": 3,
   "id": "bridal-valuation",
   "metadata": {},
   "outputs": [],
   "source": [
    "dtype_parties={\n",
    "    'at_fault': bool, # bool or floats\n",
    "    'case_id': str, # had to use str insteand of uint becaue we want leading zeros #cannot use in tsince biggest case id is 9.870011e+18, np.uint64: 64-bit unsigned integer (from 0 to 2**64-1)\n",
    "    'cellphone_use': str, \n",
    "    'financial_responsibility': str,\n",
    "    'hazardous_materials': str,\n",
    "    'id': int,\n",
    "    'movement_preceding_collision': str,\n",
    "    'other_associate_factor_1': str,\n",
    "    'other_associate_factor_2': str,\n",
    "    'party_age': pd.Int16Dtype(),\n",
    "    'party_drug_physical': str,\n",
    "    'party_number': int,\n",
    "    'party_safety_equipment_1': str,\n",
    "    'party_safety_equipment_2': str,\n",
    "    'party_sex': str,\n",
    "    'party_sobriety': str,\n",
    "    'party_type': str,\n",
    "    'school_bus_related': str,\n",
    "    'statewide_vehicle_type': str,\n",
    "    'vehicle_make': str,\n",
    "    'vehicle_year': pd.Int16Dtype(),\n",
    "}#check what type to give for integers\n",
    "#int does not allow nulls\n",
    "#np.uint64 allows up to 64 bytes (necessary for case id)\n",
    "#pd.Int16/32/64Dtype() allows nulls"
   ]
  },
  {
   "cell_type": "code",
   "execution_count": 4,
   "id": "freelance-contents",
   "metadata": {},
   "outputs": [],
   "source": [
    "parties_data = pd.read_csv(\"CSV-2018/parties2018.csv\",dtype=dtype_parties,usecols=dtype_parties.keys()) "
   ]
  },
  {
   "cell_type": "code",
   "execution_count": 10,
   "id": "built-library",
   "metadata": {},
   "outputs": [
    {
     "data": {
      "text/plain": [
       "{'1', '2', '3', 'B', 'C', 'D', nan}"
      ]
     },
     "execution_count": 10,
     "metadata": {},
     "output_type": "execute_result"
    }
   ],
   "source": [
    "set(parties_data[\"cellphone_use\"])"
   ]
  },
  {
   "cell_type": "markdown",
   "id": "stone-speech",
   "metadata": {},
   "source": [
    "# Data cleaning"
   ]
  },
  {
   "cell_type": "code",
   "execution_count": 11,
   "id": "deluxe-extension",
   "metadata": {},
   "outputs": [],
   "source": [
    "clean_data = parties_data.copy()"
   ]
  },
  {
   "cell_type": "markdown",
   "id": "weekly-european",
   "metadata": {},
   "source": [
    "Translation tables for data cleaning"
   ]
  },
  {
   "cell_type": "code",
   "execution_count": 12,
   "id": "sporting-harmony",
   "metadata": {},
   "outputs": [],
   "source": [
    "translation_movement_preceding_collision ={\n",
    "    'stopped': \"A\",\n",
    "    'proceeding straight': \"B\",\n",
    "    'ran off road': \"C\",\n",
    "    'making right turn': \"D\",\n",
    "    'making left turn': \"E\",\n",
    "    'making u-turn': \"F\",\n",
    "    'backing': \"G\",\n",
    "    'slowing/stopping': \"H\",\n",
    "    'passing other vehicle': \"I\",\n",
    "    'changing lanes': \"J\",\n",
    "    'parking maneuver': \"K\",\n",
    "    'entering traffic': \"L\",\n",
    "    'other unsafe turning': \"M\",\n",
    "    'crossed into opposing lane': \"N\",\n",
    "    'parked': \"O\",\n",
    "    'merging': \"P\",\n",
    "    'traveling wrong way': \"Q\",\n",
    "    'other': \"R\",\n",
    "}\n",
    "\n",
    "translation_party_sex ={\n",
    "    'female': \"F\",\n",
    "    'male': \"M\",\n",
    "}\n",
    "\n",
    "translation_party_type ={\n",
    "    'driver': 1,\n",
    "    'pedestrian': 2,\n",
    "    'parked vehicle': 3,\n",
    "    'bicyclist': 4, \n",
    "    'other': 5,\n",
    "}\n",
    "\n",
    "translation_statewide_vehicle_type ={\n",
    "    'passenger car': \"A\",\n",
    "    'passenger car with trailer':\"B\",\n",
    "    'motorcycle or scooter': \"C\",\n",
    "    'pickup or panel truck': \"D\",\n",
    "    'pickup or panel truck with trailer': \"E\",\n",
    "    'truck or truck tractor': \"F\",\n",
    "    'truck or truck tractor with trailer': \"G\",\n",
    "    'schoolbus': \"H\",\n",
    "    'other bus': \"I\",\n",
    "    'emergency vehicle': \"J\",\n",
    "    'highway construction equipment': \"K\",\n",
    "    'bicycle': \"L\",\n",
    "    'other vehicle':\"M\",\n",
    "    'pedestrian': \"N\",\n",
    "    'moped':\"O\", \n",
    "}"
   ]
  },
  {
   "cell_type": "markdown",
   "id": "decimal-repeat",
   "metadata": {},
   "source": [
    "Clean columns that need to be cleaned"
   ]
  },
  {
   "cell_type": "code",
   "execution_count": 13,
   "id": "ranking-addition",
   "metadata": {},
   "outputs": [],
   "source": [
    "clean_data[\"movement_preceding_collision\"] = parties_data[\"movement_preceding_collision\"].map(lambda s: translation_movement_preceding_collision.get(s, None))\n",
    "clean_data[\"party_sex\"] = parties_data[\"party_sex\"].map(lambda s: translation_party_sex.get(s, None))\n",
    "clean_data[\"party_type\"] = parties_data[\"party_type\"].map(lambda s: translation_party_type.get(s, None)).astype(pd.Int16Dtype())\n",
    "clean_data[\"statewide_vehicle_type\"] = parties_data[\"statewide_vehicle_type\"].map(lambda s: translation_statewide_vehicle_type.get(s, None))\n"
   ]
  },
  {
   "cell_type": "markdown",
   "id": "thousand-meditation",
   "metadata": {},
   "source": [
    "# Problems with data"
   ]
  },
  {
   "cell_type": "markdown",
   "id": "differential-ending",
   "metadata": {},
   "source": [
    "### Cellphone use"
   ]
  },
  {
   "cell_type": "code",
   "execution_count": 14,
   "id": "surprising-shock",
   "metadata": {},
   "outputs": [
    {
     "name": "stdout",
     "output_type": "stream",
     "text": [
      "Set of values for cellphone_use: \n"
     ]
    },
    {
     "data": {
      "text/plain": [
       "{'1', '2', '3', 'B', 'C', 'D', nan}"
      ]
     },
     "execution_count": 14,
     "metadata": {},
     "output_type": "execute_result"
    }
   ],
   "source": [
    "cellphone_use_one = parties_data[parties_data[\"cellphone_use\"] == '1']\n",
    "cellphone_use_two = parties_data[parties_data[\"cellphone_use\"] == '2']\n",
    "cellphone_use_three = parties_data[parties_data[\"cellphone_use\"] == '3']\n",
    "\n",
    "cellphone_use_b = parties_data[parties_data[\"cellphone_use\"] == 'B']\n",
    "cellphone_use_c = parties_data[parties_data[\"cellphone_use\"] == 'C']\n",
    "cellphone_use_d = parties_data[parties_data[\"cellphone_use\"] == 'D']\n",
    "\n",
    "print(f\"Set of values for cellphone_use: \")\n",
    "set(parties_data[\"cellphone_use\"])\n"
   ]
  },
  {
   "cell_type": "code",
   "execution_count": 15,
   "id": "earned-livestock",
   "metadata": {},
   "outputs": [
    {
     "name": "stdout",
     "output_type": "stream",
     "text": [
      "Occurences of 1,2,3: 2636894\n",
      "Occurences of B,C,D: 2108830\n"
     ]
    }
   ],
   "source": [
    "numbers = len(cellphone_use_one) + len(cellphone_use_two) + len(cellphone_use_three)\n",
    "letters = len(cellphone_use_b) + len(cellphone_use_c) + len(cellphone_use_d)\n",
    "print(f\"Occurences of 1,2,3: {numbers}\")\n",
    "print(f\"Occurences of B,C,D: {letters}\")\n"
   ]
  },
  {
   "cell_type": "markdown",
   "id": "outer-tourism",
   "metadata": {},
   "source": [
    "We realised that the values that are stored in the cellphone_use column {'1', '2', '3', 'B', 'C', 'D', nan} are different to the ones on the handout {'B', 'C', 'D', nan}. The values that are in the data but not in the handout {'1', '2', '3'} appear 2636894 times. We decided not to drop these values because they are a big chunk of the data (56%). \n",
    "\n",
    "We needed to find a plausible mapping between the numbers and the letters. We opted to do it by doing a frequency analysis. As you can see in the next cell, it is clear that 1 and B are those that appear the least, and 3 and D are those that appear most frequently. \n",
    "\n",
    "Therefore, we concluded that the correct mapping is: 1 -> B, 2 -> C, 3 -> D\n",
    "\n"
   ]
  },
  {
   "cell_type": "code",
   "execution_count": 16,
   "id": "sound-edwards",
   "metadata": {},
   "outputs": [
    {
     "name": "stdout",
     "output_type": "stream",
     "text": [
      "1 : 24787 in % : 0.009 \t\t B : 38932 in % : 0.018\n",
      "2 : 39114 in % : 0.015 \t\t C : 795475 in % : 0.377\n",
      "3 : 2572993 in % : 0.976 \t D : 1274423 in % : 0.604\n"
     ]
    }
   ],
   "source": [
    "print(f\"1 : {len(cellphone_use_one)} in % : {len(cellphone_use_one)/numbers:.3f} \\t\\t B : {len(cellphone_use_b)} in % : {len(cellphone_use_b)/letters:.3f}\")\n",
    "print(f\"2 : {len(cellphone_use_two)} in % : {len(cellphone_use_two)/numbers:.3f} \\t\\t C : {len(cellphone_use_c)} in % : {len(cellphone_use_c)/letters:.3f}\")\n",
    "print(f\"3 : {len(cellphone_use_three)} in % : {len(cellphone_use_three)/numbers:.3f} \\t D : {len(cellphone_use_d)} in % : {len(cellphone_use_d)/letters:.3f}\")\n"
   ]
  },
  {
   "cell_type": "markdown",
   "id": "french-scroll",
   "metadata": {},
   "source": [
    "As we imported the data in the database we chose to replace the None value by \"D\" since D already means \"No Cell Phone/Unknown\" which is equals to \"no value\"."
   ]
  },
  {
   "cell_type": "code",
   "execution_count": 27,
   "id": "mobile-roberts",
   "metadata": {},
   "outputs": [],
   "source": [
    "translation_cell_phone_use = {\n",
    "    \"1\": \"B\",\n",
    "    \"2\": \"C\",\n",
    "    \"3\": \"D\",\n",
    "    None: \"D\"\n",
    "}\n",
    "\n",
    "clean_data[\"cellphone_use\"] = parties_data[\"cellphone_use\"].map(lambda s: translation_cell_phone_use.get(s, s))"
   ]
  },
  {
   "cell_type": "code",
   "execution_count": 28,
   "id": "efficient-review",
   "metadata": {},
   "outputs": [
    {
     "data": {
      "text/plain": [
       "{'B', 'C', 'D', nan}"
      ]
     },
     "execution_count": 28,
     "metadata": {},
     "output_type": "execute_result"
    }
   ],
   "source": [
    "set(clean_data[\"cellphone_use\"])"
   ]
  },
  {
   "cell_type": "markdown",
   "id": "meaning-grenada",
   "metadata": {},
   "source": [
    "### vehicle_make"
   ]
  },
  {
   "cell_type": "markdown",
   "id": "proof-lindsay",
   "metadata": {},
   "source": [
    "Since \"vehicle_make\" is an open field there is a lot of errors and inconsistency. We corrected the most obvious typos (see below) and make some brands consistent. We chose not to modifiy this field too much since we are not experts in vehicle_make and that's error prone to do modify it manually. For example we decided not to remove values with \"OTHER - ...\" since they add information compared to a \"None\"."
   ]
  },
  {
   "cell_type": "code",
   "execution_count": null,
   "id": "refined-minimum",
   "metadata": {},
   "outputs": [],
   "source": [
    "vehicle_make_corrections = {\n",
    "    \"AMERICAN MOTORS\" : \"AMERICAN MOTORS (AMC)\",\n",
    "    \"DODG\": \"DODGE\",\n",
    "    \"HOND\" : \"HONDA\",\n",
    "    \"MERCEDES BENZ\":\"MERCEDES-BENZ\",\n",
    "    \"MAZD\": \"MAZDA\",\n",
    "    \"TOYTA\": \"TOYOTA\",\n",
    "    \"MISCELLANEOUS\": None,\n",
    "    \"NOT STATED\": None\n",
    "}"
   ]
  },
  {
   "cell_type": "code",
   "execution_count": null,
   "id": "incredible-award",
   "metadata": {},
   "outputs": [],
   "source": [
    "clean_data[\"vehicle_make\"] = parties_data[\"vehicle_make\"].map(lambda m: vehicle_make_corrections.get(m, m))"
   ]
  },
  {
   "cell_type": "markdown",
   "id": "polar-drama",
   "metadata": {},
   "source": [
    "### party_drug_physical"
   ]
  },
  {
   "cell_type": "markdown",
   "id": "skilled-crossing",
   "metadata": {},
   "source": [
    "We noticed 585062 rows of \"party_drug_physical\" with value \"G\" which is not an valid key for \"party_drug_physical\". We decided to replace is by None since we had no way to guess what the correct value."
   ]
  },
  {
   "cell_type": "code",
   "execution_count": null,
   "id": "parental-masters",
   "metadata": {},
   "outputs": [],
   "source": [
    "clean_data[\"party_drug_physical\"] = parties_data[\"party_drug_physical\"].map(lambda d: None if \"G\" == d else d)"
   ]
  },
  {
   "cell_type": "markdown",
   "id": "outer-officer",
   "metadata": {},
   "source": [
    "# Save clean data in a pickle"
   ]
  },
  {
   "cell_type": "code",
   "execution_count": null,
   "id": "impressed-contract",
   "metadata": {},
   "outputs": [],
   "source": [
    "save_obj(clean_data, \"clean_parties\")"
   ]
  },
  {
   "cell_type": "markdown",
   "id": "frozen-bracelet",
   "metadata": {},
   "source": [
    "# Create CSV files"
   ]
  },
  {
   "cell_type": "markdown",
   "id": "developmental-shooting",
   "metadata": {},
   "source": [
    "## Parties CVS"
   ]
  },
  {
   "cell_type": "code",
   "execution_count": null,
   "id": "organic-dubai",
   "metadata": {},
   "outputs": [],
   "source": [
    "translate = {\n",
    "    \"case_id\": \"collision_case_id\", \n",
    "    \"financial_responsibility\": \"financial_responsibility_id\", \n",
    "    \"movement_preceding_collision\": \"movement_preceding_collision_id\",\n",
    "    \"party_drug_physical\": \"party_drug_physical_id\",\n",
    "    \"party_sobriety\": \"party_sobriety_id\",\n",
    "    \"party_type\": \"party_type_id\",\n",
    "    \"statewide_vehicle_type\": \"statewide_vehicle_type_id\",\n",
    "    \"cellphone_use\": \"cellphone_use_id\"\n",
    "}\n",
    "unwanted_columns = [\n",
    "    \"party_safety_equipment_1\", \n",
    "    \"party_safety_equipment_2\", \n",
    "    \"other_associate_factor_1\", \n",
    "    \"other_associate_factor_2\", \n",
    "    \"party_number\"]\n",
    "\n",
    "parties_cvs = clean_data.copy().rename(columns=translate).drop(unwanted_columns, axis=\"columns\")\n"
   ]
  },
  {
   "cell_type": "code",
   "execution_count": null,
   "id": "appreciated-participant",
   "metadata": {},
   "outputs": [],
   "source": [
    "parties_cvs.to_csv('out/parties.csv', index=False)"
   ]
  },
  {
   "cell_type": "markdown",
   "id": "constant-appraisal",
   "metadata": {},
   "source": [
    "## safety_equipment relation CVS"
   ]
  },
  {
   "cell_type": "code",
   "execution_count": null,
   "id": "thermal-berlin",
   "metadata": {},
   "outputs": [],
   "source": [
    "translate = {\"id\": \"party_id\", \"party_safety_equipment_1\": \"party_safety_equipment_id\", \"party_safety_equipment_2\": \"party_safety_equipment_id\"}\n",
    "safety_equipment_1 = clean_data[~clean_data[\"party_safety_equipment_1\"].isnull()][[\"id\", \"party_safety_equipment_1\"]].copy().rename(columns=translate)\n",
    "safety_equipment_2 = clean_data[~clean_data[\"party_safety_equipment_2\"].isnull()][[\"id\", \"party_safety_equipment_2\"]].copy().rename(columns=translate)\n",
    "safety_equipment_csv = pd.concat([safety_equipment_1, safety_equipment_2], axis=0)\n",
    "sort_safety_equipment_csv = safety_equipment_csv.sort_values(\"party_id\")"
   ]
  },
  {
   "cell_type": "code",
   "execution_count": null,
   "id": "decimal-creator",
   "metadata": {},
   "outputs": [],
   "source": [
    "sort_safety_equipment_csv.to_csv('out/party_equiped_with_safety_equipment.csv', index=False)"
   ]
  },
  {
   "cell_type": "markdown",
   "id": "measured-camel",
   "metadata": {},
   "source": [
    "## Other_factor relation CSV"
   ]
  },
  {
   "cell_type": "code",
   "execution_count": null,
   "id": "common-grain",
   "metadata": {},
   "outputs": [],
   "source": [
    "translate = {\"id\": \"party_id\", \"other_associate_factor_1\": \"other_associated_factor_id\", \"other_associate_factor_2\": \"other_associated_factor_id\"}\n",
    "other_associated_factor_1 = clean_data[~clean_data[\"other_associate_factor_1\"].isnull()][[\"id\", \"other_associate_factor_1\"]].copy().rename(columns=translate)\n",
    "other_associated_factor_2 = clean_data[~clean_data[\"other_associate_factor_2\"].isnull()][[\"id\", \"other_associate_factor_2\"]].copy().rename(columns=translate)\n",
    "other_associated_factor_csv = pd.concat([other_associated_factor_1, other_associated_factor_2], axis=0)\n",
    "sort_other_associated_factor_csv = other_associated_factor_csv.sort_values(\"party_id\")"
   ]
  },
  {
   "cell_type": "code",
   "execution_count": null,
   "id": "peripheral-wound",
   "metadata": {},
   "outputs": [],
   "source": [
    "sort_other_associated_factor_csv.to_csv('out/party_associated_with_safety_other_associated_factor.csv', index=False)"
   ]
  },
  {
   "cell_type": "code",
   "execution_count": null,
   "id": "changing-wholesale",
   "metadata": {},
   "outputs": [],
   "source": []
  }
 ],
 "metadata": {
  "kernelspec": {
   "display_name": "Python 3",
   "language": "python",
   "name": "python3"
  },
  "language_info": {
   "codemirror_mode": {
    "name": "ipython",
    "version": 3
   },
   "file_extension": ".py",
   "mimetype": "text/x-python",
   "name": "python",
   "nbconvert_exporter": "python",
   "pygments_lexer": "ipython3",
   "version": "3.9.2"
  }
 },
 "nbformat": 4,
 "nbformat_minor": 5
}
