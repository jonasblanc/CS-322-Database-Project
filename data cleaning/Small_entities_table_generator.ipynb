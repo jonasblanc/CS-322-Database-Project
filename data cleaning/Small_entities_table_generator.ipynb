{
 "cells": [
  {
   "cell_type": "code",
   "execution_count": 1,
   "id": "stone-static",
   "metadata": {},
   "outputs": [],
   "source": [
    "import csv"
   ]
  },
  {
   "cell_type": "code",
   "execution_count": 2,
   "id": "overall-raleigh",
   "metadata": {},
   "outputs": [],
   "source": [
    "FIELD_1 = \"id\"\n",
    "FIELD_2 = \"description\""
   ]
  },
  {
   "cell_type": "code",
   "execution_count": 3,
   "id": "composite-brunswick",
   "metadata": {},
   "outputs": [],
   "source": [
    "def process_and_write_in_csv(table_name, string_to_process):\n",
    "    lines = list(filter(lambda l: l != \"\", string_to_process.split(\"\\n\")))\n",
    "    data = [list(map(lambda s: s.strip(), line.split(\" - \"))) for line in lines]\n",
    "\n",
    "    with open(f'tables/{table_name}.csv','w') as out:\n",
    "        csv_out = csv.writer(out)\n",
    "        csv_out.writerow([FIELD_1,FIELD_2])\n",
    "        for row in data:\n",
    "            csv_out.writerow(row)"
   ]
  },
  {
   "cell_type": "code",
   "execution_count": 4,
   "id": "recovered-there",
   "metadata": {},
   "outputs": [],
   "source": [
    "table_name = \"cellphone_use\"\n",
    "\n",
    "string_to_process = \"\"\"\n",
    "B - Cell Phone in Use\n",
    "C - Cell Phone Not in Use\n",
    "D - No Cell Phone/Unknown\n",
    "\"\"\"\n",
    "process_and_write_in_csv(table_name, string_to_process)"
   ]
  },
  {
   "cell_type": "code",
   "execution_count": 5,
   "id": "optical-ability",
   "metadata": {},
   "outputs": [],
   "source": [
    "table_name = \"financial_responsibility\"\n",
    "\n",
    "string_to_process = \"\"\"\n",
    "N - No Proof of Insurance Obtained\n",
    "Y - Yes, Proof of Insurance Obtained\n",
    "O - Not Applicable (used for parked cars, bicyclists, pedestrians, and party type others)\n",
    "E - Used if the officer is called away from the scene of the collision prior to obtaining the insurance information\n",
    "\"\"\"\n",
    "process_and_write_in_csv(table_name, string_to_process)"
   ]
  },
  {
   "cell_type": "code",
   "execution_count": 6,
   "id": "closing-crystal",
   "metadata": {},
   "outputs": [],
   "source": [
    "table_name = \"movement_preceding_collision\"\n",
    "\n",
    "string_to_process = \"\"\"\n",
    "A - Stopped\n",
    "B - Proceeding Straight\n",
    "C - Ran Off Road\n",
    "D - Making Right Turn\n",
    "E - Making Left Turn\n",
    "F - Making U-Turn\n",
    "G - Backing\n",
    "H - Slowing/Stopping\n",
    "I - Passing Other Vehicle\n",
    "J - Changing Lanes\n",
    "K - Parking Maneuver\n",
    "L - Entering Traffic\n",
    "M - Other Unsafe Turning\n",
    "N - Crossed Into Opposing Lane\n",
    "O - Parked\n",
    "P - Merging\n",
    "Q - Traveling Wrong Way \n",
    "R - Other\n",
    "\"\"\"\n",
    "process_and_write_in_csv(table_name, string_to_process)"
   ]
  },
  {
   "cell_type": "code",
   "execution_count": 7,
   "id": "juvenile-animal",
   "metadata": {},
   "outputs": [],
   "source": [
    "table_name = \"other_associated_factor\"\n",
    "\n",
    "string_to_process = \"\"\"\n",
    "A - Violation\n",
    "E - Vision Obscurements\n",
    "F - Inattention\n",
    "G - Stop and Go Traffic\n",
    "H - Entering/Leaving Ramp\n",
    "I - Previous Collision\n",
    "J - Unfamiliar With Road\n",
    "K - Defective Vehicle Equipment\n",
    "L - Uninvolved Vehicle\n",
    "M - Other\n",
    "N - None Apparent\n",
    "O - Runaway Vehicle\n",
    "P - Inattention, Cell Phone\n",
    "Q - Inattention, Electronic Equip.\n",
    "R - Inattention, Radio/CD\n",
    "S - Inattention, Smoking\n",
    "T - Inattention, Eating\n",
    "U - Inattention, Children\n",
    "V - Inattention, Animal\n",
    "W - Inattention, Personal Hygiene\n",
    "X - Inattention, Reading\n",
    "Y - Inattention, Other\n",
    "\"\"\"\n",
    "process_and_write_in_csv(table_name, string_to_process)"
   ]
  },
  {
   "cell_type": "markdown",
   "id": "general-margin",
   "metadata": {},
   "source": [
    "### Problem in name\n",
    "\n",
    "table_name = \"party_drug_physical\"\n",
    "\n",
    "string_to_process = \"\"\"\n",
    "E - Under Drug Influence \n",
    "F - Impairment - Physical \n",
    "H - Not Applicable\n",
    "I - Sleepy/Fatigued\n",
    "\"\"\"\n",
    "process_and_write_in_csv(table_name, string_to_process)"
   ]
  },
  {
   "cell_type": "code",
   "execution_count": 8,
   "id": "ceramic-repeat",
   "metadata": {},
   "outputs": [],
   "source": [
    "table_name = \"party_safety_equipment\"\n",
    "\n",
    "string_to_process = \"\"\"\n",
    "A - None in Vehicle\n",
    "B - Unknown\n",
    "C - Lap Belt Used\n",
    "D - Lap Belt Not Used\n",
    "E - Shoulder Harness Used\n",
    "F - Shoulder Harness Not Used\n",
    "G - Lap/Shoulder Harness Used\n",
    "H - Lap/Shoulder Harness Not Used\n",
    "J - Passive Restraint Used\n",
    "K - Passive Restraint Not Used\n",
    "L - Air Bag Deployed\n",
    "M - Air Bag Not Deployed\n",
    "N - Other\n",
    "P - Not Required\n",
    "Q - Child Restraint in Vehicle Used\n",
    "R - Child Restraint in Vehicle Not Used\n",
    "S - Child Restraint in Vehicle, Use Unknown\n",
    "T - Child Restraint in Vehicle, Improper Use\n",
    "U - No Child Restraint in Vehicle\n",
    "V - Driver, Motorcycle Helmet Not Used\n",
    "W - Driver, Motorcycle Helmet Used\n",
    "X - Passenger, Motorcycle Helmet Not Used \n",
    "Y - Passenger, Motorcycle Helmet Used\n",
    "\"\"\"\n",
    "process_and_write_in_csv(table_name, string_to_process)"
   ]
  },
  {
   "cell_type": "code",
   "execution_count": 9,
   "id": "charitable-hurricane",
   "metadata": {},
   "outputs": [],
   "source": [
    "table_name = \"party_sobriety\"\n",
    "\n",
    "string_to_process = \"\"\"\n",
    "A - Had Not Been Drinking\n",
    "B - Had Been Drinking, Under Influence\n",
    "C - Had Been Drinking, Not Under Influence \n",
    "D - Had Been Drinking, Impairment Unknown \n",
    "G - Impairment Unknown\n",
    "H - Not Applicable\n",
    "\"\"\"\n",
    "process_and_write_in_csv(table_name, string_to_process)"
   ]
  },
  {
   "cell_type": "code",
   "execution_count": 10,
   "id": "framed-malaysia",
   "metadata": {},
   "outputs": [],
   "source": [
    "table_name = \"party_type\"\n",
    "\n",
    "string_to_process = \"\"\"\n",
    "1 - Driver (including Hit and Run) 2 - Pedestrian\n",
    "3 - Parked Vehicle\n",
    "4 - Bicyclist\n",
    "5 - Other\n",
    "\"\"\"\n",
    "process_and_write_in_csv(table_name, string_to_process)"
   ]
  },
  {
   "cell_type": "code",
   "execution_count": 11,
   "id": "inclusive-majority",
   "metadata": {},
   "outputs": [],
   "source": [
    "table_name = \"statewide_vehicle_type\"\n",
    "\n",
    "string_to_process = \"\"\"\n",
    "A - Passenger Car/Station Wagon \n",
    "B - Passenger Car with Trailer\n",
    "C - Motorcycle/Scooter\n",
    "D - Pickup or Panel Truck\n",
    "E - Pickup or Panel Truck with Trailer\n",
    "F - Truck or Truck Tractor\n",
    "G - Truck or Truck Tractor with Trailer \n",
    "H - Schoolbus\n",
    "I - Other Bus\n",
    "J - Emergency Vehicle\n",
    "K - Highway Construction Equipment \n",
    "L - Bicycle\n",
    "M - Other Vehicle\n",
    "N - Pedestrian\n",
    "O - Moped\n",
    "\"\"\"\n",
    "process_and_write_in_csv(table_name, string_to_process)"
   ]
  },
  {
   "cell_type": "markdown",
   "id": "ordered-responsibility",
   "metadata": {},
   "source": [
    "# Collisions"
   ]
  },
  {
   "cell_type": "code",
   "execution_count": 12,
   "id": "perfect-plant",
   "metadata": {},
   "outputs": [],
   "source": [
    "table_name = \"collision_severity\"\n",
    "\n",
    "string_to_process = \"\"\"\n",
    "1 - Fatal\n",
    "2 - Injury (Severe)\n",
    "3 - Injury (Other Visible)\n",
    "4 - Injury (Complaint of Pain)\n",
    "0 - PDO (Property Damage Only)\n",
    "\"\"\"\n",
    "process_and_write_in_csv(table_name, string_to_process)"
   ]
  },
  {
   "cell_type": "code",
   "execution_count": 13,
   "id": "polar-generic",
   "metadata": {},
   "outputs": [],
   "source": [
    "table_name = \"hit_and_run\"\n",
    "\n",
    "string_to_process = \"\"\"\n",
    "F - Felony\n",
    "M - Misdemeanor\n",
    "N - Not Hit and Run\n",
    "\"\"\"\n",
    "process_and_write_in_csv(table_name, string_to_process)"
   ]
  },
  {
   "cell_type": "markdown",
   "id": "caroline-johnson",
   "metadata": {},
   "source": [
    "### Problem in name\n",
    "\n",
    "table_name = \"lighting\"\n",
    "\n",
    "string_to_process = \"\"\"\n",
    "A - Daylight\n",
    "B - Dusk - Dawn\n",
    "C - Dark - Street Lights\n",
    "D - Dark - No Street Lights\n",
    "E - Dark - Street Lights Not Functioning\n",
    "\"\"\"\n",
    "process_and_write_in_csv(table_name, string_to_process)"
   ]
  },
  {
   "cell_type": "code",
   "execution_count": 14,
   "id": "speaking-meter",
   "metadata": {},
   "outputs": [],
   "source": [
    "table_name = \"location_type\"\n",
    "\n",
    "string_to_process = \"\"\"\n",
    "H - Highway\n",
    "I - Intersection\n",
    "R - Ramp (or Collector)\n",
    "\"\"\"\n",
    "process_and_write_in_csv(table_name, string_to_process)"
   ]
  },
  {
   "cell_type": "code",
   "execution_count": 15,
   "id": "natural-frontier",
   "metadata": {},
   "outputs": [],
   "source": [
    "table_name = \"pcf_violation_category\"\n",
    "\n",
    "string_to_process = \"\"\"\n",
    "01 - Driving or Bicycling Under the Influence of Alcohol or Drug\n",
    "02 - Impeding Traffic\n",
    "03 - Unsafe Speed\n",
    "04 - Following Too Closely\n",
    "05 - Wrong Side of Road\n",
    "06 - Improper Passing\n",
    "07 - Unsafe Lane Change\n",
    "08 - Improper Turning\n",
    "09 - Automobile Right of Way\n",
    "10 - Pedestrian Right of Way\n",
    "11 - Pedestrian Violation\n",
    "12 - Traffic Signals and Signs \n",
    "13 - Hazardous Parking\n",
    "14 - Lights\n",
    "15 - Brakes\n",
    "16 - Other Equipment\n",
    "17 - Other Hazardous Violation\n",
    "18 - Other Than Driver (or Pedestrian)\n",
    "19 - Unsafe Starting or Backing\n",
    "22 - Other Improper Driving\n",
    "23 - Pedestrian or \"Other\" Under the Influence of Alcohol or Drug\n",
    "24 - Fell Asleep\n",
    "00 - Unknown\n",
    "\"\"\"\n",
    "process_and_write_in_csv(table_name, string_to_process)"
   ]
  },
  {
   "cell_type": "markdown",
   "id": "creative-starter",
   "metadata": {},
   "source": [
    "Remap \"Unsafe starting or backing\" to 19 (was 19, 20, 21 at first) because they have same values"
   ]
  },
  {
   "cell_type": "markdown",
   "id": "racial-theory",
   "metadata": {},
   "source": [
    "### Problem in name\n",
    "\n",
    "table_name = \"population\"\n",
    "\n",
    "string_to_process = \"\"\"\n",
    "1 - Incorporated (less than 2500)\n",
    "2 - Incorporated (2500 - 10000)\n",
    "3 - Incorporated (10000 - 25000)\n",
    "4 - Incorporated (25000 - 50000)\n",
    "5 - Incorporated (50000 - 100000) \n",
    "6 - Incorporated (100000 - 250000) \n",
    "7 - Incorporated (over 250000)\n",
    "9 - Unincorporated (Rural)\n",
    "0 - University (Private Property)\n",
    "\"\"\"\n",
    "process_and_write_in_csv(table_name, string_to_process)"
   ]
  },
  {
   "cell_type": "code",
   "execution_count": 16,
   "id": "meaningful-theater",
   "metadata": {},
   "outputs": [],
   "source": [
    "table_name = \"primary_collision_factor (PCF)\"\n",
    "\n",
    "string_to_process = \"\"\"\n",
    "A - (Vehicle) Code Violation \n",
    "B - Other Improper Driving \n",
    "C - Other Than Driver\n",
    "D - Unknown\n",
    "E - Fell Asleep\n",
    "\"\"\"\n",
    "process_and_write_in_csv(table_name, string_to_process)"
   ]
  },
  {
   "cell_type": "code",
   "execution_count": 17,
   "id": "dietary-hunter",
   "metadata": {},
   "outputs": [],
   "source": [
    "table_name = \"ramp_intersection\"\n",
    "\n",
    "string_to_process = \"\"\"\n",
    "1 - Ramp Exit, Last 50 Feet\n",
    "2 - Mid-Ramp\n",
    "3 - Ramp Entry, First 50 Feet\n",
    "4 - Not State Highway, Ramp-related, Within 100 Feet\n",
    "5 - Intersection\n",
    "6 - Not State Highway, Intersection-related, Within 250 Feet \n",
    "7 - Highway\n",
    "8 - Not State Highway\n",
    "\"\"\"\n",
    "process_and_write_in_csv(table_name, string_to_process)"
   ]
  },
  {
   "cell_type": "code",
   "execution_count": 18,
   "id": "specialized-distinction",
   "metadata": {},
   "outputs": [],
   "source": [
    "table_name = \"road_condition\"\n",
    "\n",
    "string_to_process = \"\"\"\n",
    "A - Holes, Deep Ruts\n",
    "B - Loose Material on Roadway\n",
    "C - Obstruction on Roadway\n",
    "D - Construction or Repair Zone \n",
    "E - Reduced Roadway Width\n",
    "F - Flooded\n",
    "G - Other\n",
    "H - No Unusual Condition\n",
    "\"\"\"\n",
    "process_and_write_in_csv(table_name, string_to_process)"
   ]
  },
  {
   "cell_type": "code",
   "execution_count": 19,
   "id": "administrative-arcade",
   "metadata": {},
   "outputs": [],
   "source": [
    "table_name = \"road_surface\"\n",
    "\n",
    "string_to_process = \"\"\"\n",
    "A - Dry\n",
    "B - Wet\n",
    "C - Snowy or Icy\n",
    "D - Slippery (Muddy, Oily, etc.)\n",
    "\"\"\"\n",
    "process_and_write_in_csv(table_name, string_to_process)"
   ]
  },
  {
   "cell_type": "code",
   "execution_count": 20,
   "id": "ordinary-safety",
   "metadata": {},
   "outputs": [],
   "source": [
    "table_name = \"type_of_collision\"\n",
    "\n",
    "string_to_process = \"\"\"\n",
    "A - Head-On\n",
    "B - Sideswipe\n",
    "C - Rear End\n",
    "D - Broadside\n",
    "E - Hit Object\n",
    "F - Overturned\n",
    "G - Vehicle/Pedestrian \n",
    "H - Other\n",
    "\"\"\"\n",
    "process_and_write_in_csv(table_name, string_to_process)"
   ]
  },
  {
   "cell_type": "code",
   "execution_count": 21,
   "id": "planned-oliver",
   "metadata": {},
   "outputs": [],
   "source": [
    "table_name = \"weather\"\n",
    "\n",
    "string_to_process = \"\"\"\n",
    "A - Clear\n",
    "B - Cloudy\n",
    "C - Raining\n",
    "D - Snowing\n",
    "E - Fog\n",
    "F - Other\n",
    "G - Wind\n",
    "\"\"\"\n",
    "process_and_write_in_csv(table_name, string_to_process)"
   ]
  },
  {
   "cell_type": "markdown",
   "id": "announced-upset",
   "metadata": {},
   "source": [
    "# Victims"
   ]
  },
  {
   "cell_type": "code",
   "execution_count": 22,
   "id": "relative-workplace",
   "metadata": {},
   "outputs": [],
   "source": [
    "table_name = \"victim_degree_of_injury\"\n",
    "\n",
    "string_to_process = \"\"\"\n",
    "1 - Killed\n",
    "2 - Severe Injury\n",
    "3 - Other Visible Injury\n",
    "4 - Complaint of Pain\n",
    "5 - Suspected Serious Injury \n",
    "6 - Suspected Minor Injury \n",
    "7 - Possible Injury\n",
    "0 - No Injury\n",
    "\"\"\"\n",
    "process_and_write_in_csv(table_name, string_to_process)"
   ]
  },
  {
   "cell_type": "code",
   "execution_count": 23,
   "id": "approved-haiti",
   "metadata": {},
   "outputs": [],
   "source": [
    "table_name = \"victim_ejected\"\n",
    "\n",
    "string_to_process = \"\"\"\n",
    "0 - Not Ejected\n",
    "1 - Fully Ejected\n",
    "2 - Partially Ejected\n",
    "3 - Unknown\n",
    "\"\"\"\n",
    "process_and_write_in_csv(table_name, string_to_process)"
   ]
  },
  {
   "cell_type": "code",
   "execution_count": 24,
   "id": "interim-portfolio",
   "metadata": {},
   "outputs": [],
   "source": [
    "table_name = \"victim_seating_position\"\n",
    "\n",
    "string_to_process = \"\"\"\n",
    "1 - Driver\n",
    "2 - Passenger (includes non-operator on bicycle or any victim on/in parked vehicle or multiple victims on/in non-motor vehicle)\n",
    "3 - Pedestrian\n",
    "4 - Bicyclist\n",
    "5 - Other (single victim on/in non-motor vehicle; e.g. ridden animal, horse-drawn carriage, train, or building)\n",
    "6 - Non-Injured Party\n",
    "\"\"\"\n",
    "process_and_write_in_csv(table_name, string_to_process)"
   ]
  },
  {
   "cell_type": "code",
   "execution_count": 25,
   "id": "afraid-tattoo",
   "metadata": {},
   "outputs": [],
   "source": [
    "table_name = \"victim_seating_position\"\n",
    "\n",
    "string_to_process = \"\"\"\n",
    "1 - Driver\n",
    "2 - Passengers\n",
    "3 - Bus Occupants\n",
    "7 - Station Wagon Rear\n",
    "8 - Rear Occupant of Truck or Van \n",
    "9 - Position Unknown\n",
    "0 - Other Occupants\n",
    "\"\"\"\n",
    "\n",
    "process_and_write_in_csv(table_name, string_to_process)"
   ]
  },
  {
   "cell_type": "markdown",
   "id": "controlled-defeat",
   "metadata": {},
   "source": [
    "For victim seating position, we removed duplicated entries and therefore map values from 2-6 to 2 and all letters to 3. The reason to remapped the letters to 3 was to be able to use int instead of char."
   ]
  },
  {
   "cell_type": "code",
   "execution_count": null,
   "id": "blind-links",
   "metadata": {},
   "outputs": [],
   "source": []
  }
 ],
 "metadata": {
  "kernelspec": {
   "display_name": "Python 3",
   "language": "python",
   "name": "python3"
  },
  "language_info": {
   "codemirror_mode": {
    "name": "ipython",
    "version": 3
   },
   "file_extension": ".py",
   "mimetype": "text/x-python",
   "name": "python",
   "nbconvert_exporter": "python",
   "pygments_lexer": "ipython3",
   "version": "3.9.2"
  }
 },
 "nbformat": 4,
 "nbformat_minor": 5
}
