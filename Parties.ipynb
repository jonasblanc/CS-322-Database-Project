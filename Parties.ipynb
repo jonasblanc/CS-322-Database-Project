{
 "cells": [
  {
   "cell_type": "markdown",
   "metadata": {},
   "source": [
    "# Parties"
   ]
  },
  {
   "cell_type": "markdown",
   "metadata": {},
   "source": [
    "# Different attributes "
   ]
  },
  {
   "cell_type": "code",
   "execution_count": null,
   "metadata": {},
   "outputs": [],
   "source": [
    "'at_fault': #OK\n",
    "'case_id': #OK\n",
    "'cellphone_use': # Problem: une chiée de '1', '2', '3' => deviner à quoi ça correspond ?? \n",
    "'financial_responsibility': #OK\n",
    "'hazardous_materials': #OK,\n",
    "'id': #OK\n",
    "'movement_preceding_collision': #OK\n",
    "'other_associate_factor_1': #OK,\n",
    "'other_associate_factor_2': #OK,\n",
    "'party_age': pd.Int16Dtype(), # Problem: interpretation age 999 => pregnant\n",
    "'party_drug_physical': str, # Problem: 585062 rows with G corresponding to nothing => replace by None ? \n",
    "'party_number': #OK\n",
    "'party_safety_equipment_1': #OK,\n",
    "'party_safety_equipment_2': #OK,\n",
    "'party_sex': #OK\n",
    "'party_sobriety': #OK\n",
    "'party_type': #OK\n",
    "'school_bus_related': #OK\n",
    "'statewide_vehicle_type': #OK\n",
    "'vehicle_make': # Koi kil faut check ?\n",
    "'vehicle_year':#OK,"
   ]
  },
  {
   "cell_type": "code",
   "execution_count": null,
   "metadata": {},
   "outputs": [],
   "source": [
    "import pandas as pd\n",
    "import numpy as np"
   ]
  },
  {
   "cell_type": "code",
   "execution_count": null,
   "metadata": {},
   "outputs": [],
   "source": [
    "dtype_parties={\n",
    "    'at_fault': bool, # bool or floats\n",
    "    'case_id': np.uint64, # cannot use in tsince biggest case id is 9.870011e+18, np.uint64: 64-bit unsigned integer (from 0 to 2**64-1)\n",
    "    'cellphone_use': str, \n",
    "    'financial_responsibility': str,\n",
    "    'hazardous_materials': str,\n",
    "    'id': int,\n",
    "    'movement_preceding_collision': str,\n",
    "    'other_associate_factor_1': str,\n",
    "    'other_associate_factor_2': str,\n",
    "    'party_age': pd.Int16Dtype(),\n",
    "    'party_drug_physical': str,\n",
    "    'party_number': int,\n",
    "    'party_safety_equipment_1': str,\n",
    "    'party_safety_equipment_2': str,\n",
    "    'party_sex': str,\n",
    "    'party_sobriety': str,\n",
    "    'party_type': str,\n",
    "    'school_bus_related': str,\n",
    "    'statewide_vehicle_type': str,\n",
    "    'vehicle_make': str,\n",
    "    'vehicle_year': pd.Int16Dtype(),\n",
    "}#check what type to give for integers\n",
    "#int does not allow nulls\n",
    "#np.uint64 allows up to 64 bytes (necessary for case id)\n",
    "#pd.Int16/32/64Dtype() allows nulls"
   ]
  },
  {
   "cell_type": "code",
   "execution_count": null,
   "metadata": {},
   "outputs": [],
   "source": [
    "parties_data = pd.read_csv(\"CSV-2018/parties2018.csv\",dtype=dtype_parties,usecols=dtype_parties.keys()) "
   ]
  },
  {
   "cell_type": "code",
   "execution_count": null,
   "metadata": {},
   "outputs": [],
   "source": [
    "parties_data"
   ]
  },
  {
   "cell_type": "markdown",
   "metadata": {},
   "source": [
    "# Data cleaning"
   ]
  },
  {
   "cell_type": "code",
   "execution_count": null,
   "metadata": {},
   "outputs": [],
   "source": [
    "clean_data = parties_data.copy()"
   ]
  },
  {
   "cell_type": "markdown",
   "metadata": {},
   "source": [
    "Translation tables for data cleaning"
   ]
  },
  {
   "cell_type": "code",
   "execution_count": null,
   "metadata": {},
   "outputs": [],
   "source": [
    "translation_movement_preceding_collision ={\n",
    "    'stopped': \"A\",\n",
    "    'proceeding straight': \"B\",\n",
    "    'ran off road': \"C\",\n",
    "    'making right turn': \"D\",\n",
    "    'making left turn': \"E\",\n",
    "    'making u-turn': \"F\",\n",
    "    'backing': \"G\",\n",
    "    'slowing/stopping': \"H\",\n",
    "    'passing other vehicle': \"I\",\n",
    "    'changing lanes': \"J\",\n",
    "    'parking maneuver': \"K\",\n",
    "    'entering traffic': \"L\",\n",
    "    'other unsafe turning': \"M\",\n",
    "    'crossed into opposing lane': \"N\",\n",
    "    'parked': \"O\",\n",
    "    'merging': \"P\",\n",
    "    'traveling wrong way': \"Q\",\n",
    "    'other': \"R\",\n",
    "}\n",
    "\n",
    "translation_party_sex ={\n",
    "    'female': \"F\",\n",
    "    'male': \"M\",\n",
    "}\n",
    "\n",
    "translation_party_type ={\n",
    "    'driver': 1,\n",
    "    'pedestrian': 2,\n",
    "    'parked vehicle': 3,\n",
    "    'bicyclist': 4, \n",
    "    'other': 5,\n",
    "}\n",
    "\n",
    "translation_statewide_vehicle_type ={\n",
    "    'passenger car': \"A\",\n",
    "    'passenger car with trailer':\"B\",\n",
    "    'motorcycle or scooter': \"C\",\n",
    "    'pickup or panel truck': \"D\",\n",
    "    'pickup or panel truck with trailer': \"E\",\n",
    "    'truck or truck tractor': \"F\",\n",
    "    'truck or truck tractor with trailer': \"G\",\n",
    "    'schoolbus': \"H\",\n",
    "    'other bus': \"I\",\n",
    "    'emergency vehicle': \"J\",\n",
    "    'highway construction equipment': \"K\",\n",
    "    'bicycle': \"L\",\n",
    "    'other vehicle':\"M\",\n",
    "    'pedestrian': \"N\",\n",
    "    'moped':\"O\", \n",
    "}"
   ]
  },
  {
   "cell_type": "markdown",
   "metadata": {},
   "source": [
    "Clean columns that need to be cleaned"
   ]
  },
  {
   "cell_type": "code",
   "execution_count": null,
   "metadata": {},
   "outputs": [],
   "source": [
    "clean_data[\"movement_preceding_collision\"] = parties_data[\"movement_preceding_collision\"].map(lambda s: translation_movement_preceding_collision.get(s, None))\n",
    "clean_data[\"party_sex\"] = parties_data[\"party_sex\"].map(lambda s: translation_party_sex.get(s, None))\n",
    "clean_data[\"party_type\"] = parties_data[\"party_type\"].map(lambda s: translation_party_type.get(s, None)).astype(pd.Int16Dtype())\n",
    "clean_data[\"statewide_vehicle_type\"] = parties_data[\"statewide_vehicle_type\"].map(lambda s: translation_statewide_vehicle_type.get(s, None))\n"
   ]
  },
  {
   "cell_type": "markdown",
   "metadata": {},
   "source": [
    "# Problems with data"
   ]
  },
  {
   "cell_type": "code",
   "execution_count": null,
   "metadata": {},
   "outputs": [],
   "source": [
    "cellphone_use_one = parties_data[parties_data[\"cellphone_use\"] == '1']\n",
    "cellphone_use_two = parties_data[parties_data[\"cellphone_use\"] == '2']\n",
    "cellphone_use_three = parties_data[parties_data[\"cellphone_use\"] == '3']\n",
    "\n",
    "cellphone_use_b = parties_data[parties_data[\"cellphone_use\"] == 'B']\n",
    "cellphone_use_c = parties_data[parties_data[\"cellphone_use\"] == 'C']\n",
    "cellphone_use_d = parties_data[parties_data[\"cellphone_use\"] == 'D']\n",
    "\n",
    "print(f\"Set of values for cellphone_use: \")\n",
    "set(parties_data[\"cellphone_use\"])\n"
   ]
  },
  {
   "cell_type": "code",
   "execution_count": null,
   "metadata": {},
   "outputs": [],
   "source": [
    "numbers = len(cellphone_use_one) + len(cellphone_use_two) + len(cellphone_use_three)\n",
    "letters = len(cellphone_use_b) + len(cellphone_use_c) + len(cellphone_use_d)\n",
    "print(f\"Occurences of 1,2,3: {numbers}\")\n",
    "print(f\"Occurences of B,C,D: {letters}\")\n"
   ]
  },
  {
   "cell_type": "markdown",
   "metadata": {},
   "source": [
    "We realised that the values that are stored in the cellphone_use column {'1', '2', '3', 'B', 'C', 'D', nan} are different to the ones on the handout {'B', 'C', 'D', nan}. The values that are in the data but not in the handout {'1', '2', '3'} appear 2636894 times. We decided not to drop these values because they are a big chunk of the data (56%). \n",
    "\n",
    "We needed to find a plausible mapping between the numbers and the letters. We opted to do it by doing a frequency analysis. As you can see in the next cell, it is clear that 1 and B are those that appear the least, and 3 and D are those that appear most frequently. \n",
    "\n",
    "Therefore, we concluded that the correct mapping is: 1 -> B, 2 -> C, 3 -> D\n",
    "\n"
   ]
  },
  {
   "cell_type": "code",
   "execution_count": null,
   "metadata": {},
   "outputs": [],
   "source": [
    "print(f\"1 : {len(cellphone_use_one)} in % : {len(cellphone_use_one)/numbers:.3f} \\t\\t B : {len(cellphone_use_b)} in % : {len(cellphone_use_b)/letters:.3f}\")\n",
    "print(f\"2 : {len(cellphone_use_two)} in % : {len(cellphone_use_two)/numbers:.3f} \\t\\t C : {len(cellphone_use_c)} in % : {len(cellphone_use_c)/letters:.3f}\")\n",
    "print(f\"3 : {len(cellphone_use_three)} in % : {len(cellphone_use_three)/numbers:.3f} \\t D : {len(cellphone_use_d)} in % : {len(cellphone_use_d)/letters:.3f}\")\n"
   ]
  },
  {
   "cell_type": "code",
   "execution_count": null,
   "metadata": {},
   "outputs": [],
   "source": [
    "# Problems with vehicle_make"
   ]
  },
  {
   "cell_type": "markdown",
   "metadata": {},
   "source": [
    "American motors | American Motors (AMC)\n",
    "Dodg | Dodge\n",
    "Grumman | Grumman Motor Home ?\n",
    "Hond | Honda\n",
    "Mazd | Mazda\n",
    "Merceds benz | Mercedes-Benz\n",
    "MISCELLANEOUS ? (is it null or not stated?)\n",
    "Toyota | Toyta\n",
    "White | White GMC | White Volvo"
   ]
  }
 ],
 "metadata": {
  "kernelspec": {
   "display_name": "Python 3",
   "language": "python",
   "name": "python3"
  },
  "language_info": {
   "codemirror_mode": {
    "name": "ipython",
    "version": 3
   },
   "file_extension": ".py",
   "mimetype": "text/x-python",
   "name": "python",
   "nbconvert_exporter": "python",
   "pygments_lexer": "ipython3",
   "version": "3.8.5"
  }
 },
 "nbformat": 4,
 "nbformat_minor": 5
}
