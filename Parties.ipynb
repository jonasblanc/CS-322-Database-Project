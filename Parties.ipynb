{
 "cells": [
  {
   "cell_type": "code",
   "execution_count": 2,
   "id": "mysterious-zealand",
   "metadata": {},
   "outputs": [],
   "source": [
    "import pandas as pd\n",
    "import numpy as np"
   ]
  },
  {
   "cell_type": "code",
   "execution_count": 3,
   "id": "ultimate-skill",
   "metadata": {},
   "outputs": [],
   "source": [
    "dtype_parties={\n",
    "    'at_fault': bool, # bool or floats\n",
    "    'case_id': np.uint64, # cannot use in tsince biggest case id is 9.870011e+18, np.uint64: 64-bit unsigned integer (from 0 to 2**64-1)\n",
    "    'cellphone_use': str,\n",
    "    'cellphone_use': str,\n",
    "    'financial_responsibility': str,\n",
    "    'hazardous_materials': str,\n",
    "    'id': int,\n",
    "    'movement_preceding_collision': str,\n",
    "    'other_associate_factor_1': str,\n",
    "    'other_associate_factor_2': str,\n",
    "    'party_age': pd.Int16Dtype(),\n",
    "    'party_drug_physical': str,\n",
    "    'party_number': int,\n",
    "    'party_safety_equipment_1': str,\n",
    "    'party_safety_equipment_2': str,\n",
    "    'party_sex': str,\n",
    "    'party_sobriety': str,\n",
    "    'party_type': str,\n",
    "    'school_bus_related': str,\n",
    "    'statewide_vehicle_type': str,\n",
    "    'vehicle_make': str,\n",
    "    'vehicle_year': str,\n",
    "}#check what type to give for integers\n",
    "#int does not allow nulls\n",
    "#np.uint64 allows up to 64 bytes (necessary for case id)\n",
    "#pd.Int16/32/64Dtype() allows nulls"
   ]
  },
  {
   "cell_type": "code",
   "execution_count": 241,
   "id": "interstate-warrior",
   "metadata": {},
   "outputs": [],
   "source": [
    "nrows = 5"
   ]
  },
  {
   "cell_type": "markdown",
   "id": "understood-orlando",
   "metadata": {},
   "source": [
    "###### Delete nrows ######\n",
    "\n",
    "sep=',' by default \n",
    "\n",
    "header='0' by default (first line is column names)\n",
    "\n",
    "should we use index_col=0 for collisions data\n",
    "\n",
    "usecols to make sure we're reading correct columns\n",
    "\n",
    "add dtype\n",
    "\n",
    "use converters : Dict of functions for converting values in certain columns. Keys can either be integers or column labels.\n",
    "\n",
    "??na_values / keep_default_na / na_filter\n",
    "\n",
    "check with sql if need to infer_datetime_format/keep_date_col/date_parser/dayfirst/cache_dates\n",
    "\n",
    "comment is it useful?\n",
    "\n",
    "error_bad_lines/warn_bad_lines"
   ]
  },
  {
   "cell_type": "code",
   "execution_count": 242,
   "id": "incomplete-neighborhood",
   "metadata": {},
   "outputs": [
    {
     "name": "stdout",
     "output_type": "stream",
     "text": [
      "0,9870011231152508671,,Y,,16432243,\"making left turn\",A,,64,,2,G,,male,A,driver,,\"passenger car\",CHRYSLER,1987\n",
      "\n"
     ]
    }
   ],
   "source": [
    "#read last line\n",
    "# f1 = open(\"CSV-2018/parties2018.csv\", \"r\")\n",
    "# last_line = f1.readlines()[-1]\n",
    "# print(last_line)\n",
    "# f1.close()"
   ]
  },
  {
   "cell_type": "markdown",
   "id": "based-photographer",
   "metadata": {},
   "source": [
    "7286606"
   ]
  },
  {
   "cell_type": "code",
   "execution_count": 1,
   "id": "seeing-stomach",
   "metadata": {},
   "outputs": [
    {
     "ename": "NameError",
     "evalue": "name 'pd' is not defined",
     "output_type": "error",
     "traceback": [
      "\u001b[0;31m---------------------------------------------------------------------------\u001b[0m",
      "\u001b[0;31mNameError\u001b[0m                                 Traceback (most recent call last)",
      "\u001b[0;32m<ipython-input-1-3279026f9494>\u001b[0m in \u001b[0;36m<module>\u001b[0;34m\u001b[0m\n\u001b[0;32m----> 1\u001b[0;31m \u001b[0mparties_data\u001b[0m \u001b[0;34m=\u001b[0m \u001b[0mpd\u001b[0m\u001b[0;34m.\u001b[0m\u001b[0mread_csv\u001b[0m\u001b[0;34m(\u001b[0m\u001b[0;34m\"CSV-2018/parties2018.csv\"\u001b[0m\u001b[0;34m,\u001b[0m\u001b[0mnrows\u001b[0m\u001b[0;34m=\u001b[0m\u001b[0;36m7286606\u001b[0m\u001b[0;34m,\u001b[0m\u001b[0mdtype\u001b[0m\u001b[0;34m=\u001b[0m\u001b[0mdtype_parties\u001b[0m\u001b[0;34m,\u001b[0m\u001b[0musecols\u001b[0m\u001b[0;34m=\u001b[0m\u001b[0mdtype_parties\u001b[0m\u001b[0;34m.\u001b[0m\u001b[0mkeys\u001b[0m\u001b[0;34m(\u001b[0m\u001b[0;34m)\u001b[0m\u001b[0;34m)\u001b[0m\u001b[0;34m\u001b[0m\u001b[0;34m\u001b[0m\u001b[0m\n\u001b[0m",
      "\u001b[0;31mNameError\u001b[0m: name 'pd' is not defined"
     ]
    }
   ],
   "source": [
    "parties_data = pd.read_csv(\"CSV-2018/parties2018.csv\",nrows=7286606,dtype=dtype_parties,usecols=dtype_parties.keys()) "
   ]
  },
  {
   "cell_type": "code",
   "execution_count": 244,
   "id": "exact-morrison",
   "metadata": {},
   "outputs": [
    {
     "name": "stdout",
     "output_type": "stream",
     "text": [
      "         at_fault              case_id cellphone_use financial_responsibility  \\\n",
      "0            True                    1             C                        Y   \n",
      "1           False                    1             D                        O   \n",
      "2           False                    2           NaN                        O   \n",
      "3           False                    3             D                        Y   \n",
      "4            True                    3             D                      NaN   \n",
      "...           ...                  ...           ...                      ...   \n",
      "7286601      True  9870011226102009803             D                        Y   \n",
      "7286602     False  9870011226102009803             D                        Y   \n",
      "7286603      True  9870011228210011458             D                        N   \n",
      "7286604      True  9870011231152508671           NaN                        Y   \n",
      "7286605     False  9870011231152508671           NaN                        Y   \n",
      "\n",
      "        hazardous_materials        id movement_preceding_collision  \\\n",
      "0                       NaN         8                        other   \n",
      "1                       NaN         9                       parked   \n",
      "2                       NaN        10          proceeding straight   \n",
      "3                       NaN        11          proceeding straight   \n",
      "4                       NaN        12          proceeding straight   \n",
      "...                     ...       ...                          ...   \n",
      "7286601                 NaN  16432239             making left turn   \n",
      "7286602                 NaN  16432240          proceeding straight   \n",
      "7286603                 NaN  16432241                 ran off road   \n",
      "7286604                 NaN  16432242        passing other vehicle   \n",
      "7286605                 NaN  16432243             making left turn   \n",
      "\n",
      "        other_associate_factor_1 other_associate_factor_2  party_age  ...  \\\n",
      "0                              L                      NaN         84  ...   \n",
      "1                              N                      NaN       <NA>  ...   \n",
      "2                              O                      NaN       <NA>  ...   \n",
      "3                              N                      NaN         20  ...   \n",
      "4                              N                      NaN       <NA>  ...   \n",
      "...                          ...                      ...        ...  ...   \n",
      "7286601                        N                      NaN         66  ...   \n",
      "7286602                        N                      NaN         20  ...   \n",
      "7286603                        N                      NaN       <NA>  ...   \n",
      "7286604                        A                        F         19  ...   \n",
      "7286605                        A                      NaN         64  ...   \n",
      "\n",
      "        party_number  party_safety_equipment_1 party_safety_equipment_2  \\\n",
      "0                  1                         G                      NaN   \n",
      "1                  2                       NaN                      NaN   \n",
      "2                  1                       NaN                      NaN   \n",
      "3                  1                         G                      NaN   \n",
      "4                  2                       NaN                      NaN   \n",
      "...              ...                       ...                      ...   \n",
      "7286601            1                         G                      NaN   \n",
      "7286602            2                         G                      NaN   \n",
      "7286603            1                         B                      NaN   \n",
      "7286604            1                         G                      NaN   \n",
      "7286605            2                         G                      NaN   \n",
      "\n",
      "        party_sex party_sobriety      party_type school_bus_related  \\\n",
      "0          female              A          driver                NaN   \n",
      "1             NaN              H  parked vehicle                NaN   \n",
      "2             NaN              H           other                NaN   \n",
      "3          female              A          driver                NaN   \n",
      "4             NaN              G          driver                NaN   \n",
      "...           ...            ...             ...                ...   \n",
      "7286601      male              A          driver                NaN   \n",
      "7286602    female              A          driver                NaN   \n",
      "7286603       NaN              G          driver                NaN   \n",
      "7286604    female              A          driver                NaN   \n",
      "7286605      male              A          driver                NaN   \n",
      "\n",
      "        statewide_vehicle_type vehicle_make vehicle_year  \n",
      "0                passenger car         FORD         2000  \n",
      "1                passenger car        BUICK         1992  \n",
      "2        pickup or panel truck       TOYOTA          NaN  \n",
      "3                passenger car         FORD         1995  \n",
      "4        pickup or panel truck          NaN          NaN  \n",
      "...                        ...          ...          ...  \n",
      "7286601          passenger car     CADILLAC         1994  \n",
      "7286602          passenger car     CHRYSLER         1991  \n",
      "7286603          passenger car    CHEVROLET          NaN  \n",
      "7286604          passenger car     CADILLAC         1991  \n",
      "7286605          passenger car     CHRYSLER         1987  \n",
      "\n",
      "[7286606 rows x 21 columns]\n"
     ]
    }
   ],
   "source": [
    "# print(len(parties_data.columns))\n",
    "print(parties_data)"
   ]
  },
  {
   "cell_type": "code",
   "execution_count": 248,
   "id": "proved-berlin",
   "metadata": {},
   "outputs": [
    {
     "name": "stdout",
     "output_type": "stream",
     "text": [
      "7286605    9870011231152508671\n",
      "Name: case_id, dtype: uint64\n",
      "7286605    16432243\n",
      "Name: id, dtype: int64\n",
      "7286605    64\n",
      "Name: party_age, dtype: Int16\n",
      "7286605    2\n",
      "Name: party_number, dtype: int64\n"
     ]
    }
   ],
   "source": [
    "print(parties_data[7286605:]['case_id'])\n",
    "print(parties_data[7286605:]['id'])\n",
    "print(parties_data[7286605:]['party_age'])\n",
    "print(parties_data[7286605:]['party_number'])"
   ]
  },
  {
   "cell_type": "markdown",
   "id": "intended-unemployment",
   "metadata": {},
   "source": [
    "                                ------------------------------------------"
   ]
  },
  {
   "cell_type": "code",
   "execution_count": 250,
   "id": "aerial-pendant",
   "metadata": {},
   "outputs": [],
   "source": [
    "victims_data = pd.read_csv(\"CSV-2018/victims2018.csv\", nrows=nrows) "
   ]
  },
  {
   "cell_type": "code",
   "execution_count": 251,
   "id": "confirmed-luxembourg",
   "metadata": {},
   "outputs": [
    {
     "name": "stdout",
     "output_type": "stream",
     "text": [
      "0,9870011231152508671,,Y,,16432243,\"making left turn\",A,,64,,2,G,,male,A,driver,,\"passenger car\",CHRYSLER,1987\n",
      "\n"
     ]
    }
   ],
   "source": [
    "f1 = open(\"CSV-2018/parties2018.csv\", \"r\")\n",
    "last_line = f1.readlines()[-1]\n",
    "print(last_line)\n",
    "f1.close()"
   ]
  },
  {
   "cell_type": "code",
   "execution_count": 208,
   "id": "configured-windows",
   "metadata": {},
   "outputs": [],
   "source": [
    "collisions_data = pd.read_csv(\"CSV-2018/collisions2018.csv\", nrows=nrows) "
   ]
  },
  {
   "cell_type": "code",
   "execution_count": 41,
   "id": "applicable-details",
   "metadata": {},
   "outputs": [],
   "source": [
    "# print(victims_data)"
   ]
  },
  {
   "cell_type": "code",
   "execution_count": 42,
   "id": "champion-logic",
   "metadata": {},
   "outputs": [],
   "source": [
    "# print(collisions_data)"
   ]
  },
  {
   "cell_type": "code",
   "execution_count": null,
   "id": "human-toolbox",
   "metadata": {},
   "outputs": [],
   "source": []
  },
  {
   "cell_type": "code",
   "execution_count": null,
   "id": "smaller-london",
   "metadata": {},
   "outputs": [],
   "source": []
  },
  {
   "cell_type": "code",
   "execution_count": null,
   "id": "german-questionnaire",
   "metadata": {},
   "outputs": [],
   "source": []
  },
  {
   "cell_type": "code",
   "execution_count": null,
   "id": "necessary-channels",
   "metadata": {},
   "outputs": [],
   "source": []
  },
  {
   "cell_type": "code",
   "execution_count": null,
   "id": "anonymous-pregnancy",
   "metadata": {},
   "outputs": [],
   "source": []
  },
  {
   "cell_type": "code",
   "execution_count": null,
   "id": "everyday-premises",
   "metadata": {},
   "outputs": [],
   "source": []
  },
  {
   "cell_type": "code",
   "execution_count": null,
   "id": "musical-volleyball",
   "metadata": {},
   "outputs": [],
   "source": []
  },
  {
   "cell_type": "code",
   "execution_count": null,
   "id": "developmental-shame",
   "metadata": {},
   "outputs": [],
   "source": []
  },
  {
   "cell_type": "code",
   "execution_count": null,
   "id": "welsh-winner",
   "metadata": {},
   "outputs": [],
   "source": []
  },
  {
   "cell_type": "code",
   "execution_count": 43,
   "id": "prime-kruger",
   "metadata": {},
   "outputs": [],
   "source": [
    "case_id = 5\n",
    "parties_data_case = parties_data[parties_data[\"case_id\"] == case_id]\n",
    "victims_data_case = victims_data[victims_data[\"case_id\"] == case_id]\n",
    "collisions_data_case = collisions_data[collisions_data[\"case_id\"] == case_id]"
   ]
  },
  {
   "cell_type": "code",
   "execution_count": 44,
   "id": "focal-mount",
   "metadata": {},
   "outputs": [
    {
     "data": {
      "text/html": [
       "<div>\n",
       "<style scoped>\n",
       "    .dataframe tbody tr th:only-of-type {\n",
       "        vertical-align: middle;\n",
       "    }\n",
       "\n",
       "    .dataframe tbody tr th {\n",
       "        vertical-align: top;\n",
       "    }\n",
       "\n",
       "    .dataframe thead th {\n",
       "        text-align: right;\n",
       "    }\n",
       "</style>\n",
       "<table border=\"1\" class=\"dataframe\">\n",
       "  <thead>\n",
       "    <tr style=\"text-align: right;\">\n",
       "      <th></th>\n",
       "      <th>at_fault</th>\n",
       "      <th>case_id</th>\n",
       "      <th>cellphone_use</th>\n",
       "      <th>financial_responsibility</th>\n",
       "      <th>hazardous_materials</th>\n",
       "      <th>id</th>\n",
       "      <th>movement_preceding_collision</th>\n",
       "      <th>other_associate_factor_1</th>\n",
       "      <th>other_associate_factor_2</th>\n",
       "      <th>party_age</th>\n",
       "      <th>...</th>\n",
       "      <th>party_number</th>\n",
       "      <th>party_safety_equipment_1</th>\n",
       "      <th>party_safety_equipment_2</th>\n",
       "      <th>party_sex</th>\n",
       "      <th>party_sobriety</th>\n",
       "      <th>party_type</th>\n",
       "      <th>school_bus_related</th>\n",
       "      <th>statewide_vehicle_type</th>\n",
       "      <th>vehicle_make</th>\n",
       "      <th>vehicle_year</th>\n",
       "    </tr>\n",
       "  </thead>\n",
       "  <tbody>\n",
       "  </tbody>\n",
       "</table>\n",
       "<p>0 rows × 21 columns</p>\n",
       "</div>"
      ],
      "text/plain": [
       "Empty DataFrame\n",
       "Columns: [at_fault, case_id, cellphone_use, financial_responsibility, hazardous_materials, id, movement_preceding_collision, other_associate_factor_1, other_associate_factor_2, party_age, party_drug_physical, party_number, party_safety_equipment_1, party_safety_equipment_2, party_sex, party_sobriety, party_type, school_bus_related, statewide_vehicle_type, vehicle_make, vehicle_year]\n",
       "Index: []\n",
       "\n",
       "[0 rows x 21 columns]"
      ]
     },
     "execution_count": 44,
     "metadata": {},
     "output_type": "execute_result"
    }
   ],
   "source": [
    "parties_data_case"
   ]
  },
  {
   "cell_type": "code",
   "execution_count": 42,
   "id": "verified-series",
   "metadata": {},
   "outputs": [
    {
     "data": {
      "text/html": [
       "<div>\n",
       "<style scoped>\n",
       "    .dataframe tbody tr th:only-of-type {\n",
       "        vertical-align: middle;\n",
       "    }\n",
       "\n",
       "    .dataframe tbody tr th {\n",
       "        vertical-align: top;\n",
       "    }\n",
       "\n",
       "    .dataframe thead th {\n",
       "        text-align: right;\n",
       "    }\n",
       "</style>\n",
       "<table border=\"1\" class=\"dataframe\">\n",
       "  <thead>\n",
       "    <tr style=\"text-align: right;\">\n",
       "      <th></th>\n",
       "      <th>case_id</th>\n",
       "      <th>id</th>\n",
       "      <th>party_number</th>\n",
       "      <th>victim_age</th>\n",
       "      <th>victim_degree_of_injury</th>\n",
       "      <th>victim_ejected</th>\n",
       "      <th>victim_role</th>\n",
       "      <th>victim_safety_equipment_1</th>\n",
       "      <th>victim_safety_equipment_2</th>\n",
       "      <th>victim_seating_position</th>\n",
       "      <th>victim_sex</th>\n",
       "    </tr>\n",
       "  </thead>\n",
       "  <tbody>\n",
       "    <tr>\n",
       "      <th>1</th>\n",
       "      <td>5.0</td>\n",
       "      <td>4</td>\n",
       "      <td>1</td>\n",
       "      <td>44.0</td>\n",
       "      <td>severe injury</td>\n",
       "      <td>0.0</td>\n",
       "      <td>1</td>\n",
       "      <td>G</td>\n",
       "      <td>NaN</td>\n",
       "      <td>1.0</td>\n",
       "      <td>male</td>\n",
       "    </tr>\n",
       "  </tbody>\n",
       "</table>\n",
       "</div>"
      ],
      "text/plain": [
       "   case_id  id  party_number  victim_age victim_degree_of_injury  \\\n",
       "1      5.0   4             1        44.0           severe injury   \n",
       "\n",
       "   victim_ejected  victim_role victim_safety_equipment_1  \\\n",
       "1             0.0            1                         G   \n",
       "\n",
       "  victim_safety_equipment_2  victim_seating_position victim_sex  \n",
       "1                       NaN                      1.0       male  "
      ]
     },
     "execution_count": 42,
     "metadata": {},
     "output_type": "execute_result"
    }
   ],
   "source": [
    "victims_data_case"
   ]
  },
  {
   "cell_type": "code",
   "execution_count": 43,
   "id": "hybrid-process",
   "metadata": {},
   "outputs": [
    {
     "data": {
      "text/html": [
       "<div>\n",
       "<style scoped>\n",
       "    .dataframe tbody tr th:only-of-type {\n",
       "        vertical-align: middle;\n",
       "    }\n",
       "\n",
       "    .dataframe tbody tr th {\n",
       "        vertical-align: top;\n",
       "    }\n",
       "\n",
       "    .dataframe thead th {\n",
       "        text-align: right;\n",
       "    }\n",
       "</style>\n",
       "<table border=\"1\" class=\"dataframe\">\n",
       "  <thead>\n",
       "    <tr style=\"text-align: right;\">\n",
       "      <th></th>\n",
       "      <th>case_id</th>\n",
       "      <th>collision_date</th>\n",
       "      <th>collision_severity</th>\n",
       "      <th>collision_time</th>\n",
       "      <th>county_city_location</th>\n",
       "      <th>hit_and_run</th>\n",
       "      <th>jurisdiction</th>\n",
       "      <th>lighting</th>\n",
       "      <th>location_type</th>\n",
       "      <th>officer_id</th>\n",
       "      <th>...</th>\n",
       "      <th>primary_collision_factor</th>\n",
       "      <th>process_date</th>\n",
       "      <th>ramp_intersection</th>\n",
       "      <th>road_condition_1</th>\n",
       "      <th>road_condition_2</th>\n",
       "      <th>road_surface</th>\n",
       "      <th>tow_away</th>\n",
       "      <th>type_of_collision</th>\n",
       "      <th>weather_1</th>\n",
       "      <th>weather_2</th>\n",
       "    </tr>\n",
       "  </thead>\n",
       "  <tbody>\n",
       "    <tr>\n",
       "      <th>4</th>\n",
       "      <td>5.0</td>\n",
       "      <td>2002-02-14</td>\n",
       "      <td>severe injury</td>\n",
       "      <td>11:35:00</td>\n",
       "      <td>1500</td>\n",
       "      <td>not hit and run</td>\n",
       "      <td>9420.0</td>\n",
       "      <td>daylight</td>\n",
       "      <td>NaN</td>\n",
       "      <td>13851</td>\n",
       "      <td>...</td>\n",
       "      <td>vehicle code violation</td>\n",
       "      <td>2003-07-28</td>\n",
       "      <td>NaN</td>\n",
       "      <td>normal</td>\n",
       "      <td>NaN</td>\n",
       "      <td>dry</td>\n",
       "      <td>1.0</td>\n",
       "      <td>overturned</td>\n",
       "      <td>clear</td>\n",
       "      <td>NaN</td>\n",
       "    </tr>\n",
       "  </tbody>\n",
       "</table>\n",
       "<p>1 rows × 24 columns</p>\n",
       "</div>"
      ],
      "text/plain": [
       "   case_id collision_date collision_severity collision_time  \\\n",
       "4      5.0     2002-02-14      severe injury       11:35:00   \n",
       "\n",
       "   county_city_location      hit_and_run  jurisdiction  lighting  \\\n",
       "4                  1500  not hit and run        9420.0  daylight   \n",
       "\n",
       "  location_type officer_id  ...  primary_collision_factor process_date  \\\n",
       "4           NaN      13851  ...    vehicle code violation   2003-07-28   \n",
       "\n",
       "  ramp_intersection  road_condition_1 road_condition_2 road_surface  tow_away  \\\n",
       "4               NaN            normal              NaN          dry       1.0   \n",
       "\n",
       "  type_of_collision weather_1 weather_2  \n",
       "4        overturned     clear       NaN  \n",
       "\n",
       "[1 rows x 24 columns]"
      ]
     },
     "execution_count": 43,
     "metadata": {},
     "output_type": "execute_result"
    }
   ],
   "source": [
    "collisions_data_case"
   ]
  },
  {
   "cell_type": "code",
   "execution_count": 86,
   "id": "played-regard",
   "metadata": {},
   "outputs": [],
   "source": [
    "options = [\"B\", \"C\", \"D\", None]\n",
    "parties_data_test = parties_data[~(parties_data[\"cellphone_use\"].isin(options) | parties_data[\"cellphone_use\"].isnull().values.any())]\n",
    "\n"
   ]
  },
  {
   "cell_type": "code",
   "execution_count": 87,
   "id": "necessary-brunei",
   "metadata": {},
   "outputs": [
    {
     "data": {
      "text/html": [
       "<div>\n",
       "<style scoped>\n",
       "    .dataframe tbody tr th:only-of-type {\n",
       "        vertical-align: middle;\n",
       "    }\n",
       "\n",
       "    .dataframe tbody tr th {\n",
       "        vertical-align: top;\n",
       "    }\n",
       "\n",
       "    .dataframe thead th {\n",
       "        text-align: right;\n",
       "    }\n",
       "</style>\n",
       "<table border=\"1\" class=\"dataframe\">\n",
       "  <thead>\n",
       "    <tr style=\"text-align: right;\">\n",
       "      <th></th>\n",
       "      <th>at_fault</th>\n",
       "      <th>case_id</th>\n",
       "      <th>cellphone_use</th>\n",
       "      <th>financial_responsibility</th>\n",
       "      <th>hazardous_materials</th>\n",
       "      <th>id</th>\n",
       "      <th>movement_preceding_collision</th>\n",
       "      <th>other_associate_factor_1</th>\n",
       "      <th>other_associate_factor_2</th>\n",
       "      <th>party_age</th>\n",
       "      <th>...</th>\n",
       "      <th>party_number</th>\n",
       "      <th>party_safety_equipment_1</th>\n",
       "      <th>party_safety_equipment_2</th>\n",
       "      <th>party_sex</th>\n",
       "      <th>party_sobriety</th>\n",
       "      <th>party_type</th>\n",
       "      <th>school_bus_related</th>\n",
       "      <th>statewide_vehicle_type</th>\n",
       "      <th>vehicle_make</th>\n",
       "      <th>vehicle_year</th>\n",
       "    </tr>\n",
       "  </thead>\n",
       "  <tbody>\n",
       "  </tbody>\n",
       "</table>\n",
       "<p>0 rows × 21 columns</p>\n",
       "</div>"
      ],
      "text/plain": [
       "Empty DataFrame\n",
       "Columns: [at_fault, case_id, cellphone_use, financial_responsibility, hazardous_materials, id, movement_preceding_collision, other_associate_factor_1, other_associate_factor_2, party_age, party_drug_physical, party_number, party_safety_equipment_1, party_safety_equipment_2, party_sex, party_sobriety, party_type, school_bus_related, statewide_vehicle_type, vehicle_make, vehicle_year]\n",
       "Index: []\n",
       "\n",
       "[0 rows x 21 columns]"
      ]
     },
     "execution_count": 87,
     "metadata": {},
     "output_type": "execute_result"
    }
   ],
   "source": [
    "parties_data_test"
   ]
  },
  {
   "cell_type": "code",
   "execution_count": 68,
   "id": "standard-illinois",
   "metadata": {},
   "outputs": [
    {
     "data": {
      "text/plain": [
       "7286606"
      ]
     },
     "execution_count": 68,
     "metadata": {},
     "output_type": "execute_result"
    }
   ],
   "source": [
    "len(parties_data)"
   ]
  },
  {
   "cell_type": "code",
   "execution_count": null,
   "id": "experimental-memorial",
   "metadata": {},
   "outputs": [],
   "source": []
  }
 ],
 "metadata": {
  "kernelspec": {
   "display_name": "Python 3",
   "language": "python",
   "name": "python3"
  },
  "language_info": {
   "codemirror_mode": {
    "name": "ipython",
    "version": 3
   },
   "file_extension": ".py",
   "mimetype": "text/x-python",
   "name": "python",
   "nbconvert_exporter": "python",
   "pygments_lexer": "ipython3",
   "version": "3.9.2"
  }
 },
 "nbformat": 4,
 "nbformat_minor": 5
}
