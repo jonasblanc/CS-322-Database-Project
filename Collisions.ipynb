{
 "cells": [
  {
   "cell_type": "markdown",
   "metadata": {},
   "source": [
    "# Collisions "
   ]
  },
  {
   "cell_type": "markdown",
   "metadata": {},
   "source": [
    "# TODO\n",
    "'case_id' #OK\n",
    "'collision_date': str, #OK,\n",
    "'collision_severity': #OK\n",
    "'collision_time': str, #OK, \n",
    "'county_city_location': str, #OK \n",
    "'hit_and_run': #OK\n",
    "'jurisdiction': #OK\n",
    "'lighting': #OK\n",
    "'location_type': #OK\n",
    "'officer_id': #OK\n",
    "'pcf_violation': #OK\n",
    "'pcf_violation_category': #OK,\n",
    "'pcf_violation_subsection': #OK,\n",
    "'population': #OK\n",
    "'primary_collision_factor': #OK,\n",
    "'process_date': str, #OK,\n",
    "'ramp_intersection': #OK\n",
    "'road_condition_1': #OK,\n",
    "'road_condition_2': #OK,\n",
    "'road_surface': #OK,\n",
    "'tow_away': #OK,\n",
    "'type_of_collision': #OK,\n",
    "'weather_1': #OK,\n",
    "'weather_2': #OK,"
   ]
  },
  {
   "cell_type": "code",
   "execution_count": null,
   "metadata": {},
   "outputs": [],
   "source": [
    "import pandas as pd\n",
    "import numpy as np\n",
    "import datetime\n",
    "import time"
   ]
  },
  {
   "cell_type": "code",
   "execution_count": null,
   "metadata": {},
   "outputs": [],
   "source": [
    "dtype_collisions={\n",
    "    'case_id': np.uint64, # cannot use in tsince biggest case id is 9.870011e+18, np.uint64: 64-bit unsigned integer (from 0 to 2**64-1)\n",
    "    'collision_date': str, #datetime.date,\n",
    "    'collision_severity': str,# => convert to ID\n",
    "    'collision_time': str, #time, \n",
    "    'county_city_location': str,\n",
    "    'hit_and_run': str,# => convert to ID\n",
    "    'jurisdiction': pd.Int16Dtype(),\n",
    "    'lighting': str,\n",
    "    'location_type': str,\n",
    "    'officer_id': str,\n",
    "    'pcf_violation': pd.Int64Dtype(),\n",
    "    'pcf_violation_category': str,\n",
    "    'pcf_violation_subsection': str,\n",
    "    'population': pd.Int64Dtype(),\n",
    "    'primary_collision_factor': str,\n",
    "    'process_date': str, #datetime.date,\n",
    "    'ramp_intersection': pd.Int64Dtype(),\n",
    "    'road_condition_1': str,\n",
    "    'road_condition_2': str,\n",
    "    'road_surface': str,\n",
    "    'tow_away': 'boolean',\n",
    "    'type_of_collision': str,\n",
    "    'weather_1': str,\n",
    "    'weather_2': str, \n",
    "}"
   ]
  },
  {
   "cell_type": "code",
   "execution_count": null,
   "metadata": {},
   "outputs": [],
   "source": [
    "collisions_data = pd.read_csv(\"CSV-2018/collisions2018.csv\", dtype=dtype_collisions ,usecols=dtype_collisions.keys()) #"
   ]
  },
  {
   "cell_type": "code",
   "execution_count": null,
   "metadata": {
    "scrolled": true
   },
   "outputs": [],
   "source": [
    "collisions_data"
   ]
  },
  {
   "cell_type": "markdown",
   "metadata": {},
   "source": [
    "# Data Cleaning"
   ]
  },
  {
   "cell_type": "code",
   "execution_count": null,
   "metadata": {},
   "outputs": [],
   "source": [
    "clean_data = collisions_data.copy()"
   ]
  },
  {
   "cell_type": "markdown",
   "metadata": {},
   "source": [
    "Translation tables"
   ]
  },
  {
   "cell_type": "code",
   "execution_count": null,
   "metadata": {},
   "outputs": [],
   "source": [
    "translation_collision_severity ={\n",
    "    \"fatal\": 1,\n",
    "    \"severe injury\": 2,\n",
    "    \"other injury\": 3,\n",
    "    \"pain\": 4,\n",
    "    \"property damage only\": 0,\n",
    "}\n",
    "\n",
    "translation_hit_and_run ={\n",
    "    \"felony\": \"F\",\n",
    "    \"misdemeanor\": \"M\",\n",
    "    \"not hit and run\": \"N\",\n",
    "}\n",
    "\n",
    "translation_lighting ={\n",
    "    \"daylight\": \"A\",\n",
    "    \"dusk or dawn\": \"B\",\n",
    "    \"dark with street lights\": \"C\",\n",
    "    \"dark with no street lights\": \"D\",\n",
    "    \"dark with street lights not functioning\": \"E\",\n",
    "}\n",
    "\n",
    "translation_location_type ={\n",
    "    \"highway\": \"H\",\n",
    "    \"intersection\": \"I\",\n",
    "    \"ramp\": \"R\",\n",
    "}\n",
    "\n",
    "translation_pcf_violation_category ={\n",
    "    'unknown': 0,\n",
    "    'dui': 1,\n",
    "    'impeding traffic': 2,\n",
    "    'speeding': 3,\n",
    "    'following too closely': 4,\n",
    "    'wrong side of road': 5,\n",
    "    'improper passing': 6,\n",
    "    'unsafe lane change': 7,\n",
    "    'improper turning': 8,\n",
    "    'automobile right of way':9,\n",
    "    'pedestrian right of way': 10,\n",
    "    'pedestrian violation': 11,\n",
    "    'traffic signals and signs': 12,\n",
    "    'hazardous parking': 13,\n",
    "    'lights': 14,\n",
    "    'brakes': 15,\n",
    "    'other equipment': 16,\n",
    "    'other hazardous violation': 17,\n",
    "    'other than driver (or pedestrian)': 18,\n",
    "    'unsafe starting or backing': 19,\n",
    "    'other improper driving': 22,\n",
    "    'pedestrian dui': 23,\n",
    "    'fell asleep': 24,    \n",
    "}\n",
    "\n",
    "translation_primary_collision_factor ={\n",
    "    \"vehicle code violation\": \"A\",\n",
    "    \"other improper driving\": \"B\",\n",
    "    \"other than driver\": \"C\",\n",
    "    \"unknown\": \"D\",\n",
    "    \"fell asleep\": \"E\",\n",
    "}\n",
    "\n",
    "translation_road_condition ={\n",
    "    'holes': \"A\",\n",
    "    'loose material': \"B\",\n",
    "    'obstruction': \"C\",\n",
    "    'construction': \"D\",\n",
    "    'reduced width':\"E\",\n",
    "    'flooded': \"F\",\n",
    "    'other':\"G\",\n",
    "    'normal': \"H\",\n",
    "}\n",
    "\n",
    "translation_road_surface ={\n",
    "    'dry': \"A\",\n",
    "    'wet': \"B\",\n",
    "    'snowy': \"C\", \n",
    "    'slippery': \"D\", \n",
    "}\n",
    "\n",
    "translation_type_of_collision ={\n",
    "    'head-on': \"A\",\n",
    "    'sideswipe':\"B\",\n",
    "    'rear end':\"C\",\n",
    "    'broadside':\"D\",\n",
    "    'hit object':\"E\",\n",
    "    'overturned':\"F\",\n",
    "    'pedestrian':\"G\",\n",
    "    'other':\"H\",\n",
    "}\n",
    "\n",
    "translation_weather ={\n",
    "    'clear': \"A\", \n",
    "    'cloudy': \"B\",\n",
    "    'raining': \"C\",\n",
    "    'snowing':\"D\",\n",
    "    'fog': \"E\",\n",
    "    'other': \"F\", \n",
    "    'wind':\"G\",\n",
    "}"
   ]
  },
  {
   "cell_type": "markdown",
   "metadata": {},
   "source": [
    "Clean columns that need to be cleaned"
   ]
  },
  {
   "cell_type": "code",
   "execution_count": null,
   "metadata": {},
   "outputs": [],
   "source": [
    "clean_data[\"collision_severity\"] = collisions_data[\"collision_severity\"].map(lambda s: translation_collision_severity[s]).astype(pd.Int16Dtype())\n",
    "clean_data[\"hit_and_run\"] = collisions_data[\"hit_and_run\"].map(lambda s: translation_hit_and_run.get(s, None))\n",
    "clean_data[\"lighting\"] = collisions_data[\"lighting\"].map(lambda s: translation_lighting.get(s, None))\n",
    "clean_data[\"location_type\"] = collisions_data[\"location_type\"].map(lambda s: translation_location_type.get(s, None))\n",
    "clean_data[\"primary_collision_factor\"] = collisions_data[\"primary_collision_factor\"].map(lambda s: translation_primary_collision_factor.get(s, None))\n",
    "clean_data[\"pcf_violation_category\"] = collisions_data[\"pcf_violation_category\"].map(lambda s: translation_pcf_violation_category.get(s, None)).astype(pd.Int16Dtype())\n",
    "clean_data[\"road_condition_1\"] = collisions_data[\"road_condition_1\"].map(lambda s: translation_road_condition.get(s, None))\n",
    "clean_data[\"road_condition_2\"] = collisions_data[\"road_condition_2\"].map(lambda s: translation_road_condition.get(s, None))\n",
    "clean_data[\"road_surface\"] = collisions_data[\"road_surface\"].map(lambda s: translation_road_surface.get(s, None))\n",
    "clean_data[\"type_of_collision\"] = collisions_data[\"type_of_collision\"].map(lambda s: translation_type_of_collision.get(s, None))\n",
    "clean_data[\"weather_1\"] = collisions_data[\"weather_1\"].map(lambda s: translation_weather.get(s, None))\n",
    "clean_data[\"weather_2\"] = collisions_data[\"weather_2\"].map(lambda s: translation_weather.get(s, None))\n",
    "clean_data[\"collision_date\"] = collisions_data[\"collision_date\"].astype(\"datetime64[ns]\")\n",
    "clean_data[\"process_date\"] = collisions_data[\"process_date\"].astype(\"datetime64[ns]\")\n",
    "clean_data[\"collision_time\"] = collisions_data[\"collision_time\"].astype(\"datetime64[ns]\").dt.time"
   ]
  },
  {
   "cell_type": "code",
   "execution_count": null,
   "metadata": {},
   "outputs": [],
   "source": [
    "clean_data"
   ]
  },
  {
   "cell_type": "markdown",
   "metadata": {},
   "source": [
    "                                ------------------------------------------"
   ]
  },
  {
   "cell_type": "code",
   "execution_count": null,
   "metadata": {},
   "outputs": [],
   "source": []
  }
 ],
 "metadata": {
  "kernelspec": {
   "display_name": "Python 3",
   "language": "python",
   "name": "python3"
  },
  "language_info": {
   "codemirror_mode": {
    "name": "ipython",
    "version": 3
   },
   "file_extension": ".py",
   "mimetype": "text/x-python",
   "name": "python",
   "nbconvert_exporter": "python",
   "pygments_lexer": "ipython3",
   "version": "3.8.5"
  }
 },
 "nbformat": 4,
 "nbformat_minor": 5
}
