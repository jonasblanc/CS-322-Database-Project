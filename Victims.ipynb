{
 "cells": [
  {
   "cell_type": "markdown",
   "metadata": {},
   "source": [
    "# Victims"
   ]
  },
  {
   "cell_type": "code",
   "execution_count": null,
   "metadata": {},
   "outputs": [],
   "source": [
    "import pandas as pd\n",
    "import numpy as np"
   ]
  },
  {
   "cell_type": "code",
   "execution_count": null,
   "metadata": {},
   "outputs": [],
   "source": [
    "dtype_victims={\n",
    "    'case_id': np.uint64, # cannot use int since biggest case id is 9.870011e+18, np.uint64: 64-bit unsigned integer (from 0 to 2**64-1)\n",
    "    'id': int,\n",
    "    'party_number': int,\n",
    "    'victim_age': pd.Int16Dtype(), # 999?\n",
    "    'victim_degree_of_injury': str,# map to ints\n",
    "    'victim_ejected': pd.Int16Dtype(),\n",
    "    'victim_role': int,# map to ints\n",
    "    'victim_safety_equipment_1': str,# map char to ints\n",
    "    'victim_safety_equipment_2': str,# map char to ints\n",
    "    'victim_seating_position': pd.Int16Dtype(),# no letters in data so we can use ints\n",
    "    'victim_sex': str, #char\n",
    "}"
   ]
  },
  {
   "cell_type": "code",
   "execution_count": null,
   "metadata": {},
   "outputs": [],
   "source": [
    "victims_data = pd.read_csv(\"CSV-2018/victims2018.csv\",dtype=dtype_victims,usecols=dtype_victims.keys()) "
   ]
  },
  {
   "cell_type": "code",
   "execution_count": null,
   "metadata": {},
   "outputs": [],
   "source": [
    "victims_data"
   ]
  },
  {
   "cell_type": "code",
   "execution_count": null,
   "metadata": {},
   "outputs": [],
   "source": [
    "clean_data = victims_data.copy()"
   ]
  },
  {
   "cell_type": "code",
   "execution_count": null,
   "metadata": {},
   "outputs": [],
   "source": [
    "translation_victim_age = {\n",
    "    \"not stated\": 998,\n",
    "    \"pregnancy\": 999,\n",
    "}\n",
    "\n",
    "translation_victim_degree_of_injury = {\n",
    "    \"killed\": 1,\n",
    "    \"severe injury\": 2,\n",
    "    \"other visible injury\": 3,\n",
    "    \"complaint of pain\": 4,\n",
    "    \"suspected serious injury\": 5,\n",
    "    \"suspected minor injury\": 6,\n",
    "    \"possible injury\": 7,\n",
    "    \"no injury\": 0,\n",
    "    \"7\": 7,\n",
    "}\n",
    "\n",
    "translation_victim_ejected = {\n",
    "    \"not ejected\": 0,\n",
    "    \"fully ejected\": 1,\n",
    "    \"partially ejected\": 2,\n",
    "    \"unknown\": 3,\n",
    "}\n",
    "\n",
    "translation_victim_role = {\n",
    "    \"driver\": 1,\n",
    "    \"passenger (includes non-operator on bicycle or any victim on/in parked vehicle or multiple victims on/in non-motor vehicle)\": 2,\n",
    "    \"pedestrian\": 3,\n",
    "    \"bicyclist\": 4,\n",
    "    \"other (single victim on/in non-motor vehicle; e.g. ridden animal, horse-drawn carriage, train, or building)\": 5,\n",
    "    \"non-injured party\": 6,\n",
    "}\n",
    "\n",
    "translation_victim_sex = {\n",
    "    \"male\": 'M',\n",
    "    \"female\": 'F',\n",
    "}"
   ]
  },
  {
   "cell_type": "code",
   "execution_count": null,
   "metadata": {},
   "outputs": [],
   "source": [
    "clean_data[\"victim_degree_of_injury\"] = victims_data[\"victim_degree_of_injury\"].map(lambda s: translation_victim_degree_of_injury.get(s, None)).astype(pd.Int16Dtype())\n",
    "clean_data[\"victim_sex\"] = victims_data[\"victim_sex\"].map(lambda s: translation_victim_sex.get(s, None))\n",
    "clean_data[\"victim_ejected\"] = victims_data[\"victim_ejected\"].map(lambda s: None if pd.isna(s) or s>3 or s <0 else s).astype(pd.Int16Dtype())\n"
   ]
  },
  {
   "cell_type": "markdown",
   "metadata": {},
   "source": [
    "In victim_ejected column, there were 4 values that were 4. Since 4 is not one of the preset options for victim_ejected we decided to replace the 4's by null"
   ]
  },
  {
   "cell_type": "markdown",
   "metadata": {},
   "source": [
    "---------------------------------------"
   ]
  },
  {
   "cell_type": "markdown",
   "metadata": {},
   "source": [
    "# Create CSV files"
   ]
  },
  {
   "cell_type": "code",
   "execution_count": null,
   "metadata": {},
   "outputs": [],
   "source": [
    "csv = clean_data[['id','victim_degree_of_injury']]\n",
    "a = clean_data['victim_degree_of_injury']\n",
    "dict_victim_degree_of_injury = pd.read_csv('tables/Victims/victim_degree_of_injury.csv').to_dict()['description']\n",
    "descriptions_victim_degree_of_injury = a.map(lambda s: dict_victim_degree_of_injury.get(s,None))\n",
    "# csv = csv.insert(0, 'descriptions_victim_degree_of_injury',descriptions_victim_degree_of_injury)\n",
    "# print(len(descriptions_victim_degree_of_injury))\n",
    "# csv.shape\n",
    "csv['descriptions_victim_degree_of_injury']=descriptions_victim_degree_of_injury\n",
    "csv.to_csv('out/victim_degree_of_injury.csv', index=False)"
   ]
  },
  {
   "cell_type": "code",
   "execution_count": null,
   "metadata": {},
   "outputs": [],
   "source": [
    "csv"
   ]
  },
  {
   "cell_type": "code",
   "execution_count": null,
   "metadata": {},
   "outputs": [],
   "source": [
    "pd.read_data()"
   ]
  }
 ],
 "metadata": {
  "kernelspec": {
   "display_name": "Python 3",
   "language": "python",
   "name": "python3"
  },
  "language_info": {
   "codemirror_mode": {
    "name": "ipython",
    "version": 3
   },
   "file_extension": ".py",
   "mimetype": "text/x-python",
   "name": "python",
   "nbconvert_exporter": "python",
   "pygments_lexer": "ipython3",
   "version": "3.8.5"
  }
 },
 "nbformat": 4,
 "nbformat_minor": 5
}
