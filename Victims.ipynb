{
 "cells": [
  {
   "cell_type": "markdown",
   "id": "choice-involvement",
   "metadata": {},
   "source": [
    "Delete pregnant and set age to 0"
   ]
  },
  {
   "cell_type": "markdown",
   "id": "constant-surface",
   "metadata": {},
   "source": [
    "# Victims"
   ]
  },
  {
   "cell_type": "code",
   "execution_count": 13,
   "id": "otherwise-enterprise",
   "metadata": {},
   "outputs": [],
   "source": [
    "import pandas as pd\n",
    "import numpy as np"
   ]
  },
  {
   "cell_type": "code",
   "execution_count": 14,
   "id": "framed-brunei",
   "metadata": {},
   "outputs": [],
   "source": [
    "import pickle\n",
    "\n",
    "def save_obj(obj, name ):\n",
    "    with open('obj/'+ name + '.pkl', 'wb') as f:\n",
    "        pickle.dump(obj, f, pickle.HIGHEST_PROTOCOL)\n",
    "\n",
    "def load_obj(name):\n",
    "    with open('obj/' + name + '.pkl', 'rb') as f:\n",
    "        return pickle.load(f)"
   ]
  },
  {
   "cell_type": "code",
   "execution_count": 15,
   "id": "promising-showcase",
   "metadata": {},
   "outputs": [],
   "source": [
    "dtype_victims={\n",
    "    'case_id': np.uint64, # cannot use int since biggest case id is 9.870011e+18, np.uint64: 64-bit unsigned integer (from 0 to 2**64-1)\n",
    "    'id': int,\n",
    "    'party_number': int,\n",
    "    'victim_age': pd.Int16Dtype(), # 999?\n",
    "    'victim_degree_of_injury': str,# map to ints\n",
    "    'victim_ejected': pd.Int16Dtype(),\n",
    "    'victim_role': int,# map to ints\n",
    "    'victim_safety_equipment_1': str,# map char to ints\n",
    "    'victim_safety_equipment_2': str,# map char to ints\n",
    "    'victim_seating_position': pd.Int16Dtype(),# no letters in data so we can use ints\n",
    "    'victim_sex': str, #char\n",
    "}"
   ]
  },
  {
   "cell_type": "code",
   "execution_count": 16,
   "id": "destroyed-horizontal",
   "metadata": {},
   "outputs": [],
   "source": [
    "victims_data = pd.read_csv(\"CSV-2018/victims2018.csv\",dtype=dtype_victims,usecols=dtype_victims.keys()) "
   ]
  },
  {
   "cell_type": "code",
   "execution_count": 17,
   "id": "worldwide-intervention",
   "metadata": {},
   "outputs": [],
   "source": [
    "clean_data = victims_data.copy()"
   ]
  },
  {
   "cell_type": "code",
   "execution_count": 18,
   "id": "helpful-advice",
   "metadata": {},
   "outputs": [],
   "source": [
    "translation_victim_degree_of_injury = {\n",
    "    \"killed\": 1,\n",
    "    \"severe injury\": 2,\n",
    "    \"other visible injury\": 3,\n",
    "    \"complaint of pain\": 4,\n",
    "    \"suspected serious injury\": 5,\n",
    "    \"suspected minor injury\": 6,\n",
    "    \"possible injury\": 7,\n",
    "    \"no injury\": 0,\n",
    "    \"7\": 7,\n",
    "}\n",
    "\n",
    "translation_victim_ejected = {\n",
    "    \"not ejected\": 0,\n",
    "    \"fully ejected\": 1,\n",
    "    \"partially ejected\": 2,\n",
    "    \"unknown\": 3,\n",
    "}\n",
    "\n",
    "#translation_victim_role = {\n",
    "#    \"driver\": 1,\n",
    "#    \"passenger (includes non-operator on bicycle or any victim on/in parked vehicle or multiple victims on/in non-motor vehicle)\": 2,\n",
    "#    \"pedestrian\": 3,\n",
    "#    \"bicyclist\": 4,\n",
    "#    \"other (single victim on/in non-motor vehicle; e.g. ridden animal, horse-drawn carriage, train, or building)\": 5,\n",
    "#    \"non-injured party\": 6,\n",
    "#}\n",
    "\n",
    "translation_victim_sex = {\n",
    "    \"male\": 'M',\n",
    "    \"female\": 'F',\n",
    "}"
   ]
  },
  {
   "cell_type": "code",
   "execution_count": 19,
   "id": "adaptive-allocation",
   "metadata": {},
   "outputs": [],
   "source": [
    "clean_data[\"victim_degree_of_injury\"] = victims_data[\"victim_degree_of_injury\"].map(lambda s: translation_victim_degree_of_injury.get(s, None)).astype(pd.Int16Dtype())\n",
    "clean_data[\"victim_sex\"] = victims_data[\"victim_sex\"].map(lambda s: translation_victim_sex.get(s, None))\n",
    "clean_data[\"victim_ejected\"] = victims_data[\"victim_ejected\"].map(lambda s: None if pd.isna(s) or s>3 or s <0 else s).astype(pd.Int16Dtype())"
   ]
  },
  {
   "cell_type": "markdown",
   "id": "limited-munich",
   "metadata": {},
   "source": [
    "In victim_ejected column, there were 4 values that were 4. Since 4 is not one of the preset options for victim_ejected we decided to replace the 4's by null"
   ]
  },
  {
   "cell_type": "markdown",
   "id": "referenced-powell",
   "metadata": {},
   "source": [
    "---------------------------------------"
   ]
  },
  {
   "cell_type": "markdown",
   "id": "atomic-medium",
   "metadata": {},
   "source": [
    "# Create CSV files"
   ]
  },
  {
   "cell_type": "markdown",
   "id": "thirty-andorra",
   "metadata": {},
   "source": [
    "## Victim CSV"
   ]
  },
  {
   "cell_type": "code",
   "execution_count": 26,
   "id": "essential-sewing",
   "metadata": {},
   "outputs": [],
   "source": [
    "tmp_keys=[\n",
    "    'case_id',\n",
    "    'id',\n",
    "    'party_number',\n",
    "    'victim_age',\n",
    "    'victim_degree_of_injury',\n",
    "    'victim_ejected',\n",
    "    'victim_role',\n",
    "    'victim_seating_position',\n",
    "    'victim_sex',\n",
    "]\n",
    "victims_csv = clean_data[tmp_keys].copy()"
   ]
  },
  {
   "cell_type": "markdown",
   "id": "normal-bumper",
   "metadata": {},
   "source": [
    "### Handle pregnancy\n",
    "\n",
    "In order to clean the data and make query easier, we decided to create a new field: \"unborn\" which is a boolean telling if the victime was born or not. We set \"unborn\" from the convention saying that if the age is a 999 then the victim is the fetus of a pregnant woman. Then we replaced the age 999 by None. We chose to replace it by None and not 0 because we tought it would make more sense and that it would be wierd if the mean of age of a 30 years old pregnant woman is 15 years."
   ]
  },
  {
   "cell_type": "code",
   "execution_count": 27,
   "id": "angry-bones",
   "metadata": {},
   "outputs": [],
   "source": [
    "victims_csv[\"unborn\"] = victims_csv['victim_age'].map(lambda x: None if pd.isna(x) else 'T' if x==999 else 'F')\n",
    "victims_csv[\"victim_age\"] = victims_data[\"victim_age\"].map(lambda age: None if not pd.isna(age) and age == 999 else age).astype(pd.Int16Dtype())"
   ]
  },
  {
   "cell_type": "markdown",
   "id": "roman-penny",
   "metadata": {},
   "source": [
    "### Associate party_id to each victim\n",
    "\n",
    "Here we used data for parties CSV to map case_id and party_number to a unique party_id"
   ]
  },
  {
   "cell_type": "code",
   "execution_count": 28,
   "id": "electric-cancer",
   "metadata": {},
   "outputs": [],
   "source": [
    "clean_parties = load_obj(\"clean_parties\")"
   ]
  },
  {
   "cell_type": "code",
   "execution_count": 29,
   "id": "level-automation",
   "metadata": {},
   "outputs": [],
   "source": [
    "# Dict mapping:\n",
    "# (case_id, party_number) : party_id\n",
    "dict_party_id = dict()\n",
    "for x, party_number in zip(zip(clean_parties[\"case_id\"],clean_parties[\"party_number\"]), clean_parties[\"id\"]):\n",
    "    dict_party_id[x] = party_number"
   ]
  },
  {
   "cell_type": "code",
   "execution_count": 30,
   "id": "otherwise-stable",
   "metadata": {},
   "outputs": [],
   "source": [
    "victims_csv[\"party_id\"] = list(map(lambda x: dict_party_id[(x[0],x[1])], list(zip(victims_csv[\"case_id\"],  victims_csv[\"party_number\"]))))"
   ]
  },
  {
   "cell_type": "code",
   "execution_count": 31,
   "id": "virgin-accounting",
   "metadata": {},
   "outputs": [],
   "source": [
    "relevant_keys=[\n",
    "    'id',\n",
    "    'party_id',\n",
    "    'victim_age',\n",
    "    'victim_degree_of_injury',\n",
    "    'victim_ejected',\n",
    "    'victim_role',\n",
    "    'victim_seating_position',\n",
    "    'victim_sex',\n",
    "    'unborn',\n",
    "]\n",
    "victims_csv = victims_csv[relevant_keys].copy()"
   ]
  },
  {
   "cell_type": "code",
   "execution_count": 15,
   "id": "fifteen-debate",
   "metadata": {},
   "outputs": [],
   "source": [
    "victims_csv.to_csv('out/victims.csv', index=False)"
   ]
  },
  {
   "cell_type": "markdown",
   "id": "fantastic-ghost",
   "metadata": {},
   "source": [
    "## safety_equipment relation CSV"
   ]
  },
  {
   "cell_type": "code",
   "execution_count": 33,
   "id": "bearing-pakistan",
   "metadata": {},
   "outputs": [],
   "source": [
    "translate= {\n",
    "    \"id\": \"victim_id\", \n",
    "    \"victim_safety_equipment_1\": \"safety_equipment_id\", \n",
    "    \"victim_safety_equipment_2\": \"safety_equipment_id\"\n",
    "}\n",
    "\n",
    "safety_equipment_1 = clean_data[~clean_data[\"victim_safety_equipment_1\"].isnull()][[\"id\", \"victim_safety_equipment_1\"]].copy().rename(columns=translate)\n",
    "safety_equipement_2 = clean_data[~clean_data[\"victim_safety_equipment_2\"].isnull()][[\"id\", \"victim_safety_equipment_2\"]].copy().rename(columns=translate)\n",
    "safety_equipment_csv = pd.concat([safety_equipment_1, safety_equipement_2], axis=0)\n",
    "sort_safety_equipment_csv = safety_equipment_csv.sort_values(\"victim_id\")\n"
   ]
  },
  {
   "cell_type": "code",
   "execution_count": 25,
   "id": "noble-sally",
   "metadata": {},
   "outputs": [],
   "source": [
    "sort_safety_equipment_csv.to_csv('out/victim_equiped_with_safety_equipment.csv', index=False)"
   ]
  }
 ],
 "metadata": {
  "kernelspec": {
   "display_name": "Python 3",
   "language": "python",
   "name": "python3"
  },
  "language_info": {
   "codemirror_mode": {
    "name": "ipython",
    "version": 3
   },
   "file_extension": ".py",
   "mimetype": "text/x-python",
   "name": "python",
   "nbconvert_exporter": "python",
   "pygments_lexer": "ipython3",
   "version": "3.9.2"
  }
 },
 "nbformat": 4,
 "nbformat_minor": 5
}
