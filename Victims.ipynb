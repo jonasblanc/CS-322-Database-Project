{
 "cells": [
  {
   "cell_type": "code",
   "execution_count": 2,
   "metadata": {},
   "outputs": [],
   "source": [
    "import pandas as pd\n",
    "import numpy as np"
   ]
  },
  {
   "cell_type": "code",
   "execution_count": 90,
   "metadata": {},
   "outputs": [],
   "source": [
    "dtype_victims={\n",
    "    'case_id': np.uint64, # cannot use in tsince biggest case id is 9.870011e+18, np.uint64: 64-bit unsigned integer (from 0 to 2**64-1)\n",
    "    'id': int,\n",
    "    'party_number': int,\n",
    "    'victim_age': pd.Int16Dtype(),\n",
    "    'victim_degree_of_injury': str,# map to ints\n",
    "    'victim_ejected': pd.Int16Dtype(),\n",
    "    'victim_role': str,# map to ints\n",
    "    'victim_safety_equipment_1': str,# map char to ints\n",
    "    'victim_safety_equipment_2': str,# map char to ints\n",
    "    'victim_seating_position': str,#pd.Int16Dtype(),# int (use smallest int type)\n",
    "    'victim_sex': str, #char\n",
    "}"
   ]
  },
  {
   "cell_type": "code",
   "execution_count": 91,
   "metadata": {},
   "outputs": [],
   "source": [
    "nrows = 5"
   ]
  },
  {
   "cell_type": "markdown",
   "metadata": {},
   "source": [
    "###### Delete nrows ######\n",
    "\n",
    "use converters : Dict of functions for converting values in certain columns. Keys can either be integers or column labels.\n",
    "\n",
    "??na_values / keep_default_na / na_filter\n",
    "\n",
    "check with sql if need to infer_datetime_format/keep_date_col/date_parser/dayfirst/cache_dates\n",
    "\n",
    "comment is it useful?\n",
    "\n",
    "error_bad_lines/warn_bad_lines"
   ]
  },
  {
   "cell_type": "markdown",
   "metadata": {},
   "source": [
    "4082685"
   ]
  },
  {
   "cell_type": "code",
   "execution_count": 101,
   "metadata": {},
   "outputs": [],
   "source": [
    "victims_data = pd.read_csv(\"CSV-2018/victims2018.csv\",dtype=dtype_victims,usecols=dtype_victims.keys()) "
   ]
  },
  {
   "cell_type": "code",
   "execution_count": 102,
   "metadata": {},
   "outputs": [
    {
     "data": {
      "text/html": [
       "<div>\n",
       "<style scoped>\n",
       "    .dataframe tbody tr th:only-of-type {\n",
       "        vertical-align: middle;\n",
       "    }\n",
       "\n",
       "    .dataframe tbody tr th {\n",
       "        vertical-align: top;\n",
       "    }\n",
       "\n",
       "    .dataframe thead th {\n",
       "        text-align: right;\n",
       "    }\n",
       "</style>\n",
       "<table border=\"1\" class=\"dataframe\">\n",
       "  <thead>\n",
       "    <tr style=\"text-align: right;\">\n",
       "      <th></th>\n",
       "      <th>case_id</th>\n",
       "      <th>id</th>\n",
       "      <th>party_number</th>\n",
       "      <th>victim_age</th>\n",
       "      <th>victim_degree_of_injury</th>\n",
       "      <th>victim_ejected</th>\n",
       "      <th>victim_role</th>\n",
       "      <th>victim_safety_equipment_1</th>\n",
       "      <th>victim_safety_equipment_2</th>\n",
       "      <th>victim_seating_position</th>\n",
       "      <th>victim_sex</th>\n",
       "    </tr>\n",
       "  </thead>\n",
       "  <tbody>\n",
       "    <tr>\n",
       "      <th>0</th>\n",
       "      <td>3</td>\n",
       "      <td>3</td>\n",
       "      <td>1</td>\n",
       "      <td>21</td>\n",
       "      <td>no injury</td>\n",
       "      <td>0</td>\n",
       "      <td>2</td>\n",
       "      <td>G</td>\n",
       "      <td>NaN</td>\n",
       "      <td>3</td>\n",
       "      <td>male</td>\n",
       "    </tr>\n",
       "    <tr>\n",
       "      <th>1</th>\n",
       "      <td>5</td>\n",
       "      <td>4</td>\n",
       "      <td>1</td>\n",
       "      <td>44</td>\n",
       "      <td>severe injury</td>\n",
       "      <td>0</td>\n",
       "      <td>1</td>\n",
       "      <td>G</td>\n",
       "      <td>NaN</td>\n",
       "      <td>1</td>\n",
       "      <td>male</td>\n",
       "    </tr>\n",
       "    <tr>\n",
       "      <th>2</th>\n",
       "      <td>8</td>\n",
       "      <td>5</td>\n",
       "      <td>1</td>\n",
       "      <td>59</td>\n",
       "      <td>no injury</td>\n",
       "      <td>0</td>\n",
       "      <td>2</td>\n",
       "      <td>G</td>\n",
       "      <td>NaN</td>\n",
       "      <td>3</td>\n",
       "      <td>female</td>\n",
       "    </tr>\n",
       "    <tr>\n",
       "      <th>3</th>\n",
       "      <td>8</td>\n",
       "      <td>6</td>\n",
       "      <td>2</td>\n",
       "      <td>31</td>\n",
       "      <td>no injury</td>\n",
       "      <td>0</td>\n",
       "      <td>2</td>\n",
       "      <td>G</td>\n",
       "      <td>NaN</td>\n",
       "      <td>3</td>\n",
       "      <td>male</td>\n",
       "    </tr>\n",
       "    <tr>\n",
       "      <th>4</th>\n",
       "      <td>9</td>\n",
       "      <td>7</td>\n",
       "      <td>2</td>\n",
       "      <td>14</td>\n",
       "      <td>complaint of pain</td>\n",
       "      <td>0</td>\n",
       "      <td>2</td>\n",
       "      <td>C</td>\n",
       "      <td>NaN</td>\n",
       "      <td>6</td>\n",
       "      <td>female</td>\n",
       "    </tr>\n",
       "    <tr>\n",
       "      <th>...</th>\n",
       "      <td>...</td>\n",
       "      <td>...</td>\n",
       "      <td>...</td>\n",
       "      <td>...</td>\n",
       "      <td>...</td>\n",
       "      <td>...</td>\n",
       "      <td>...</td>\n",
       "      <td>...</td>\n",
       "      <td>...</td>\n",
       "      <td>...</td>\n",
       "      <td>...</td>\n",
       "    </tr>\n",
       "    <tr>\n",
       "      <th>4082680</th>\n",
       "      <td>9870011226102009803</td>\n",
       "      <td>8817531</td>\n",
       "      <td>2</td>\n",
       "      <td>20</td>\n",
       "      <td>other visible injury</td>\n",
       "      <td>0</td>\n",
       "      <td>1</td>\n",
       "      <td>G</td>\n",
       "      <td>NaN</td>\n",
       "      <td>1</td>\n",
       "      <td>female</td>\n",
       "    </tr>\n",
       "    <tr>\n",
       "      <th>4082681</th>\n",
       "      <td>9870011231152508671</td>\n",
       "      <td>8817532</td>\n",
       "      <td>1</td>\n",
       "      <td>27</td>\n",
       "      <td>complaint of pain</td>\n",
       "      <td>0</td>\n",
       "      <td>2</td>\n",
       "      <td>H</td>\n",
       "      <td>NaN</td>\n",
       "      <td>3</td>\n",
       "      <td>female</td>\n",
       "    </tr>\n",
       "    <tr>\n",
       "      <th>4082682</th>\n",
       "      <td>9870011231152508671</td>\n",
       "      <td>8817533</td>\n",
       "      <td>2</td>\n",
       "      <td>74</td>\n",
       "      <td>complaint of pain</td>\n",
       "      <td>0</td>\n",
       "      <td>2</td>\n",
       "      <td>G</td>\n",
       "      <td>NaN</td>\n",
       "      <td>3</td>\n",
       "      <td>female</td>\n",
       "    </tr>\n",
       "    <tr>\n",
       "      <th>4082683</th>\n",
       "      <td>9870011231152508671</td>\n",
       "      <td>8817534</td>\n",
       "      <td>2</td>\n",
       "      <td>64</td>\n",
       "      <td>complaint of pain</td>\n",
       "      <td>0</td>\n",
       "      <td>1</td>\n",
       "      <td>G</td>\n",
       "      <td>NaN</td>\n",
       "      <td>1</td>\n",
       "      <td>male</td>\n",
       "    </tr>\n",
       "    <tr>\n",
       "      <th>4082684</th>\n",
       "      <td>9870011231152508671</td>\n",
       "      <td>8817535</td>\n",
       "      <td>2</td>\n",
       "      <td>45</td>\n",
       "      <td>no injury</td>\n",
       "      <td>0</td>\n",
       "      <td>6</td>\n",
       "      <td>G</td>\n",
       "      <td>NaN</td>\n",
       "      <td>6</td>\n",
       "      <td>female</td>\n",
       "    </tr>\n",
       "  </tbody>\n",
       "</table>\n",
       "<p>4082685 rows × 11 columns</p>\n",
       "</div>"
      ],
      "text/plain": [
       "                     case_id       id  party_number  victim_age  \\\n",
       "0                          3        3             1          21   \n",
       "1                          5        4             1          44   \n",
       "2                          8        5             1          59   \n",
       "3                          8        6             2          31   \n",
       "4                          9        7             2          14   \n",
       "...                      ...      ...           ...         ...   \n",
       "4082680  9870011226102009803  8817531             2          20   \n",
       "4082681  9870011231152508671  8817532             1          27   \n",
       "4082682  9870011231152508671  8817533             2          74   \n",
       "4082683  9870011231152508671  8817534             2          64   \n",
       "4082684  9870011231152508671  8817535             2          45   \n",
       "\n",
       "        victim_degree_of_injury  victim_ejected victim_role  \\\n",
       "0                     no injury               0           2   \n",
       "1                 severe injury               0           1   \n",
       "2                     no injury               0           2   \n",
       "3                     no injury               0           2   \n",
       "4             complaint of pain               0           2   \n",
       "...                         ...             ...         ...   \n",
       "4082680    other visible injury               0           1   \n",
       "4082681       complaint of pain               0           2   \n",
       "4082682       complaint of pain               0           2   \n",
       "4082683       complaint of pain               0           1   \n",
       "4082684               no injury               0           6   \n",
       "\n",
       "        victim_safety_equipment_1 victim_safety_equipment_2  \\\n",
       "0                               G                       NaN   \n",
       "1                               G                       NaN   \n",
       "2                               G                       NaN   \n",
       "3                               G                       NaN   \n",
       "4                               C                       NaN   \n",
       "...                           ...                       ...   \n",
       "4082680                         G                       NaN   \n",
       "4082681                         H                       NaN   \n",
       "4082682                         G                       NaN   \n",
       "4082683                         G                       NaN   \n",
       "4082684                         G                       NaN   \n",
       "\n",
       "        victim_seating_position victim_sex  \n",
       "0                             3       male  \n",
       "1                             1       male  \n",
       "2                             3     female  \n",
       "3                             3       male  \n",
       "4                             6     female  \n",
       "...                         ...        ...  \n",
       "4082680                       1     female  \n",
       "4082681                       3     female  \n",
       "4082682                       3     female  \n",
       "4082683                       1       male  \n",
       "4082684                       6     female  \n",
       "\n",
       "[4082685 rows x 11 columns]"
      ]
     },
     "execution_count": 102,
     "metadata": {},
     "output_type": "execute_result"
    }
   ],
   "source": [
    "victims_data"
   ]
  },
  {
   "cell_type": "markdown",
   "metadata": {},
   "source": [
    "First take memory usage \n",
    "\n",
    "Index                             128\n",
    "\n",
    "case_id                      32661480\n",
    "\n",
    "id                           32661480\n",
    "\n",
    "party_number                 32661480\n",
    "\n",
    "victim_age                   12248055\n",
    "\n",
    "victim_degree_of_injury      32661480\n",
    "\n",
    "victim_ejected               12248055\n",
    "\n",
    "victim_role                  32661480\n",
    "\n",
    "victim_safety_equipment_1    32661480\n",
    "\n",
    "victim_safety_equipment_2    32661480\n",
    "\n",
    "victim_seating_position      32661480\n",
    "\n",
    "victim_sex                   32661480\n",
    "\n",
    "dtype: int64"
   ]
  },
  {
   "cell_type": "code",
   "execution_count": 112,
   "metadata": {},
   "outputs": [
    {
     "data": {
      "text/plain": [
       "Index                             128\n",
       "case_id                      32661480\n",
       "id                           32661480\n",
       "party_number                 32661480\n",
       "victim_age                   12248055\n",
       "victim_degree_of_injury      32661480\n",
       "victim_ejected               12248055\n",
       "victim_role                  32661480\n",
       "victim_safety_equipment_1    32661480\n",
       "victim_safety_equipment_2    32661480\n",
       "victim_seating_position      32661480\n",
       "victim_sex                   32661480\n",
       "dtype: int64"
      ]
     },
     "execution_count": 112,
     "metadata": {},
     "output_type": "execute_result"
    }
   ],
   "source": [
    "victims_data.memory_usage()"
   ]
  },
  {
   "cell_type": "code",
   "execution_count": 113,
   "metadata": {},
   "outputs": [
    {
     "data": {
      "text/plain": [
       "0                     no injury\n",
       "1                 severe injury\n",
       "2                     no injury\n",
       "3                     no injury\n",
       "4             complaint of pain\n",
       "                   ...         \n",
       "4082680    other visible injury\n",
       "4082681       complaint of pain\n",
       "4082682       complaint of pain\n",
       "4082683       complaint of pain\n",
       "4082684               no injury\n",
       "Name: victim_degree_of_injury, Length: 4082685, dtype: object"
      ]
     },
     "execution_count": 113,
     "metadata": {},
     "output_type": "execute_result"
    }
   ],
   "source": [
    "victims_data['victim_degree_of_injury']"
   ]
  },
  {
   "cell_type": "code",
   "execution_count": 121,
   "metadata": {},
   "outputs": [
    {
     "data": {
      "text/html": [
       "<div>\n",
       "<style scoped>\n",
       "    .dataframe tbody tr th:only-of-type {\n",
       "        vertical-align: middle;\n",
       "    }\n",
       "\n",
       "    .dataframe tbody tr th {\n",
       "        vertical-align: top;\n",
       "    }\n",
       "\n",
       "    .dataframe thead th {\n",
       "        text-align: right;\n",
       "    }\n",
       "</style>\n",
       "<table border=\"1\" class=\"dataframe\">\n",
       "  <thead>\n",
       "    <tr style=\"text-align: right;\">\n",
       "      <th></th>\n",
       "      <th>id</th>\n",
       "      <th>description</th>\n",
       "    </tr>\n",
       "  </thead>\n",
       "  <tbody>\n",
       "    <tr>\n",
       "      <th>0</th>\n",
       "      <td>1</td>\n",
       "      <td>Killed</td>\n",
       "    </tr>\n",
       "    <tr>\n",
       "      <th>1</th>\n",
       "      <td>2</td>\n",
       "      <td>Severe Injury</td>\n",
       "    </tr>\n",
       "    <tr>\n",
       "      <th>2</th>\n",
       "      <td>3</td>\n",
       "      <td>Other Visible Injury</td>\n",
       "    </tr>\n",
       "    <tr>\n",
       "      <th>3</th>\n",
       "      <td>4</td>\n",
       "      <td>Complaint of Pain</td>\n",
       "    </tr>\n",
       "    <tr>\n",
       "      <th>4</th>\n",
       "      <td>5</td>\n",
       "      <td>Suspected Serious Injury</td>\n",
       "    </tr>\n",
       "    <tr>\n",
       "      <th>5</th>\n",
       "      <td>6</td>\n",
       "      <td>Suspected Minor Injury</td>\n",
       "    </tr>\n",
       "    <tr>\n",
       "      <th>6</th>\n",
       "      <td>7</td>\n",
       "      <td>Possible Injury</td>\n",
       "    </tr>\n",
       "    <tr>\n",
       "      <th>7</th>\n",
       "      <td>0</td>\n",
       "      <td>No Injury</td>\n",
       "    </tr>\n",
       "  </tbody>\n",
       "</table>\n",
       "</div>"
      ],
      "text/plain": [
       "   id               description\n",
       "0   1                    Killed\n",
       "1   2             Severe Injury\n",
       "2   3      Other Visible Injury\n",
       "3   4         Complaint of Pain\n",
       "4   5  Suspected Serious Injury\n",
       "5   6    Suspected Minor Injury\n",
       "6   7           Possible Injury\n",
       "7   0                 No Injury"
      ]
     },
     "execution_count": 121,
     "metadata": {},
     "output_type": "execute_result"
    }
   ],
   "source": [
    "choices = pd.read_csv('tables/Victims/victim_degree_of_injury.csv')\n",
    "choices"
   ]
  },
  {
   "cell_type": "code",
   "execution_count": 124,
   "metadata": {},
   "outputs": [
    {
     "data": {
      "text/plain": [
       "False"
      ]
     },
     "execution_count": 124,
     "metadata": {},
     "output_type": "execute_result"
    }
   ],
   "source": [
    "set(victims_data['victim_degree_of_injury']).issubset(set(choices))\n"
   ]
  },
  {
   "cell_type": "code",
   "execution_count": 126,
   "metadata": {},
   "outputs": [
    {
     "data": {
      "text/plain": [
       "{'7',\n",
       " 'complaint of pain',\n",
       " 'killed',\n",
       " 'no injury',\n",
       " 'other visible injury',\n",
       " 'severe injury'}"
      ]
     },
     "execution_count": 126,
     "metadata": {},
     "output_type": "execute_result"
    }
   ],
   "source": [
    "set(victims_data['victim_degree_of_injury'])"
   ]
  },
  {
   "cell_type": "code",
   "execution_count": 130,
   "metadata": {},
   "outputs": [
    {
     "data": {
      "text/plain": [
       "{'description', 'id'}"
      ]
     },
     "execution_count": 130,
     "metadata": {},
     "output_type": "execute_result"
    }
   ],
   "source": [
    "set(choices).difference(set(victims_data['victim_degree_of_injury']))"
   ]
  },
  {
   "cell_type": "code",
   "execution_count": null,
   "metadata": {},
   "outputs": [],
   "source": []
  },
  {
   "cell_type": "code",
   "execution_count": null,
   "metadata": {},
   "outputs": [],
   "source": []
  },
  {
   "cell_type": "code",
   "execution_count": null,
   "metadata": {},
   "outputs": [],
   "source": []
  },
  {
   "cell_type": "code",
   "execution_count": null,
   "metadata": {},
   "outputs": [],
   "source": []
  }
 ],
 "metadata": {
  "kernelspec": {
   "display_name": "Python 3",
   "language": "python",
   "name": "python3"
  },
  "language_info": {
   "codemirror_mode": {
    "name": "ipython",
    "version": 3
   },
   "file_extension": ".py",
   "mimetype": "text/x-python",
   "name": "python",
   "nbconvert_exporter": "python",
   "pygments_lexer": "ipython3",
   "version": "3.8.5"
  }
 },
 "nbformat": 4,
 "nbformat_minor": 5
}
