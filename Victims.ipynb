{
 "cells": [
  {
   "cell_type": "markdown",
   "metadata": {},
   "source": [
    "Delete pregnant and set age to 0"
   ]
  },
  {
   "cell_type": "markdown",
   "metadata": {},
   "source": [
    "# Victims"
   ]
  },
  {
   "cell_type": "code",
   "execution_count": 1,
   "metadata": {},
   "outputs": [],
   "source": [
    "import pandas as pd\n",
    "import numpy as np"
   ]
  },
  {
   "cell_type": "code",
   "execution_count": 2,
   "metadata": {},
   "outputs": [],
   "source": [
    "import pickle\n",
    "\n",
    "def save_obj(obj, name ):\n",
    "    with open('obj/'+ name + '.pkl', 'wb') as f:\n",
    "        pickle.dump(obj, f, pickle.HIGHEST_PROTOCOL)\n",
    "\n",
    "def load_obj(name):\n",
    "    with open('obj/' + name + '.pkl', 'rb') as f:\n",
    "        return pickle.load(f)"
   ]
  },
  {
   "cell_type": "code",
   "execution_count": 3,
   "metadata": {},
   "outputs": [],
   "source": [
    "dtype_victims={\n",
    "    'case_id': np.uint64, # cannot use int since biggest case id is 9.870011e+18, np.uint64: 64-bit unsigned integer (from 0 to 2**64-1)\n",
    "    'id': int,\n",
    "    'party_number': int,\n",
    "    'victim_age': pd.Int16Dtype(), # 999?\n",
    "    'victim_degree_of_injury': str,# map to ints\n",
    "    'victim_ejected': pd.Int16Dtype(),\n",
    "    'victim_role': int,# map to ints\n",
    "    'victim_safety_equipment_1': str,# map char to ints\n",
    "    'victim_safety_equipment_2': str,# map char to ints\n",
    "    'victim_seating_position': pd.Int16Dtype(),# no letters in data so we can use ints\n",
    "    'victim_sex': str, #char\n",
    "}"
   ]
  },
  {
   "cell_type": "code",
   "execution_count": 4,
   "metadata": {},
   "outputs": [],
   "source": [
    "victims_data = pd.read_csv(\"CSV-2018/victims2018.csv\",dtype=dtype_victims,usecols=dtype_victims.keys()) "
   ]
  },
  {
   "cell_type": "code",
   "execution_count": 5,
   "metadata": {},
   "outputs": [
    {
     "data": {
      "text/html": [
       "<div>\n",
       "<style scoped>\n",
       "    .dataframe tbody tr th:only-of-type {\n",
       "        vertical-align: middle;\n",
       "    }\n",
       "\n",
       "    .dataframe tbody tr th {\n",
       "        vertical-align: top;\n",
       "    }\n",
       "\n",
       "    .dataframe thead th {\n",
       "        text-align: right;\n",
       "    }\n",
       "</style>\n",
       "<table border=\"1\" class=\"dataframe\">\n",
       "  <thead>\n",
       "    <tr style=\"text-align: right;\">\n",
       "      <th></th>\n",
       "      <th>case_id</th>\n",
       "      <th>id</th>\n",
       "      <th>party_number</th>\n",
       "      <th>victim_age</th>\n",
       "      <th>victim_degree_of_injury</th>\n",
       "      <th>victim_ejected</th>\n",
       "      <th>victim_role</th>\n",
       "      <th>victim_safety_equipment_1</th>\n",
       "      <th>victim_safety_equipment_2</th>\n",
       "      <th>victim_seating_position</th>\n",
       "      <th>victim_sex</th>\n",
       "    </tr>\n",
       "  </thead>\n",
       "  <tbody>\n",
       "    <tr>\n",
       "      <th>0</th>\n",
       "      <td>3</td>\n",
       "      <td>3</td>\n",
       "      <td>1</td>\n",
       "      <td>21</td>\n",
       "      <td>no injury</td>\n",
       "      <td>0</td>\n",
       "      <td>2</td>\n",
       "      <td>G</td>\n",
       "      <td>NaN</td>\n",
       "      <td>3</td>\n",
       "      <td>male</td>\n",
       "    </tr>\n",
       "    <tr>\n",
       "      <th>1</th>\n",
       "      <td>5</td>\n",
       "      <td>4</td>\n",
       "      <td>1</td>\n",
       "      <td>44</td>\n",
       "      <td>severe injury</td>\n",
       "      <td>0</td>\n",
       "      <td>1</td>\n",
       "      <td>G</td>\n",
       "      <td>NaN</td>\n",
       "      <td>1</td>\n",
       "      <td>male</td>\n",
       "    </tr>\n",
       "    <tr>\n",
       "      <th>2</th>\n",
       "      <td>8</td>\n",
       "      <td>5</td>\n",
       "      <td>1</td>\n",
       "      <td>59</td>\n",
       "      <td>no injury</td>\n",
       "      <td>0</td>\n",
       "      <td>2</td>\n",
       "      <td>G</td>\n",
       "      <td>NaN</td>\n",
       "      <td>3</td>\n",
       "      <td>female</td>\n",
       "    </tr>\n",
       "    <tr>\n",
       "      <th>3</th>\n",
       "      <td>8</td>\n",
       "      <td>6</td>\n",
       "      <td>2</td>\n",
       "      <td>31</td>\n",
       "      <td>no injury</td>\n",
       "      <td>0</td>\n",
       "      <td>2</td>\n",
       "      <td>G</td>\n",
       "      <td>NaN</td>\n",
       "      <td>3</td>\n",
       "      <td>male</td>\n",
       "    </tr>\n",
       "    <tr>\n",
       "      <th>4</th>\n",
       "      <td>9</td>\n",
       "      <td>7</td>\n",
       "      <td>2</td>\n",
       "      <td>14</td>\n",
       "      <td>complaint of pain</td>\n",
       "      <td>0</td>\n",
       "      <td>2</td>\n",
       "      <td>C</td>\n",
       "      <td>NaN</td>\n",
       "      <td>6</td>\n",
       "      <td>female</td>\n",
       "    </tr>\n",
       "    <tr>\n",
       "      <th>...</th>\n",
       "      <td>...</td>\n",
       "      <td>...</td>\n",
       "      <td>...</td>\n",
       "      <td>...</td>\n",
       "      <td>...</td>\n",
       "      <td>...</td>\n",
       "      <td>...</td>\n",
       "      <td>...</td>\n",
       "      <td>...</td>\n",
       "      <td>...</td>\n",
       "      <td>...</td>\n",
       "    </tr>\n",
       "    <tr>\n",
       "      <th>4082680</th>\n",
       "      <td>9870011226102009803</td>\n",
       "      <td>8817531</td>\n",
       "      <td>2</td>\n",
       "      <td>20</td>\n",
       "      <td>other visible injury</td>\n",
       "      <td>0</td>\n",
       "      <td>1</td>\n",
       "      <td>G</td>\n",
       "      <td>NaN</td>\n",
       "      <td>1</td>\n",
       "      <td>female</td>\n",
       "    </tr>\n",
       "    <tr>\n",
       "      <th>4082681</th>\n",
       "      <td>9870011231152508671</td>\n",
       "      <td>8817532</td>\n",
       "      <td>1</td>\n",
       "      <td>27</td>\n",
       "      <td>complaint of pain</td>\n",
       "      <td>0</td>\n",
       "      <td>2</td>\n",
       "      <td>H</td>\n",
       "      <td>NaN</td>\n",
       "      <td>3</td>\n",
       "      <td>female</td>\n",
       "    </tr>\n",
       "    <tr>\n",
       "      <th>4082682</th>\n",
       "      <td>9870011231152508671</td>\n",
       "      <td>8817533</td>\n",
       "      <td>2</td>\n",
       "      <td>74</td>\n",
       "      <td>complaint of pain</td>\n",
       "      <td>0</td>\n",
       "      <td>2</td>\n",
       "      <td>G</td>\n",
       "      <td>NaN</td>\n",
       "      <td>3</td>\n",
       "      <td>female</td>\n",
       "    </tr>\n",
       "    <tr>\n",
       "      <th>4082683</th>\n",
       "      <td>9870011231152508671</td>\n",
       "      <td>8817534</td>\n",
       "      <td>2</td>\n",
       "      <td>64</td>\n",
       "      <td>complaint of pain</td>\n",
       "      <td>0</td>\n",
       "      <td>1</td>\n",
       "      <td>G</td>\n",
       "      <td>NaN</td>\n",
       "      <td>1</td>\n",
       "      <td>male</td>\n",
       "    </tr>\n",
       "    <tr>\n",
       "      <th>4082684</th>\n",
       "      <td>9870011231152508671</td>\n",
       "      <td>8817535</td>\n",
       "      <td>2</td>\n",
       "      <td>45</td>\n",
       "      <td>no injury</td>\n",
       "      <td>0</td>\n",
       "      <td>6</td>\n",
       "      <td>G</td>\n",
       "      <td>NaN</td>\n",
       "      <td>6</td>\n",
       "      <td>female</td>\n",
       "    </tr>\n",
       "  </tbody>\n",
       "</table>\n",
       "<p>4082685 rows × 11 columns</p>\n",
       "</div>"
      ],
      "text/plain": [
       "                     case_id       id  party_number  victim_age  \\\n",
       "0                          3        3             1          21   \n",
       "1                          5        4             1          44   \n",
       "2                          8        5             1          59   \n",
       "3                          8        6             2          31   \n",
       "4                          9        7             2          14   \n",
       "...                      ...      ...           ...         ...   \n",
       "4082680  9870011226102009803  8817531             2          20   \n",
       "4082681  9870011231152508671  8817532             1          27   \n",
       "4082682  9870011231152508671  8817533             2          74   \n",
       "4082683  9870011231152508671  8817534             2          64   \n",
       "4082684  9870011231152508671  8817535             2          45   \n",
       "\n",
       "        victim_degree_of_injury  victim_ejected  victim_role  \\\n",
       "0                     no injury               0            2   \n",
       "1                 severe injury               0            1   \n",
       "2                     no injury               0            2   \n",
       "3                     no injury               0            2   \n",
       "4             complaint of pain               0            2   \n",
       "...                         ...             ...          ...   \n",
       "4082680    other visible injury               0            1   \n",
       "4082681       complaint of pain               0            2   \n",
       "4082682       complaint of pain               0            2   \n",
       "4082683       complaint of pain               0            1   \n",
       "4082684               no injury               0            6   \n",
       "\n",
       "        victim_safety_equipment_1 victim_safety_equipment_2  \\\n",
       "0                               G                       NaN   \n",
       "1                               G                       NaN   \n",
       "2                               G                       NaN   \n",
       "3                               G                       NaN   \n",
       "4                               C                       NaN   \n",
       "...                           ...                       ...   \n",
       "4082680                         G                       NaN   \n",
       "4082681                         H                       NaN   \n",
       "4082682                         G                       NaN   \n",
       "4082683                         G                       NaN   \n",
       "4082684                         G                       NaN   \n",
       "\n",
       "         victim_seating_position victim_sex  \n",
       "0                              3       male  \n",
       "1                              1       male  \n",
       "2                              3     female  \n",
       "3                              3       male  \n",
       "4                              6     female  \n",
       "...                          ...        ...  \n",
       "4082680                        1     female  \n",
       "4082681                        3     female  \n",
       "4082682                        3     female  \n",
       "4082683                        1       male  \n",
       "4082684                        6     female  \n",
       "\n",
       "[4082685 rows x 11 columns]"
      ]
     },
     "execution_count": 5,
     "metadata": {},
     "output_type": "execute_result"
    }
   ],
   "source": [
    "victims_data"
   ]
  },
  {
   "cell_type": "code",
   "execution_count": 6,
   "metadata": {},
   "outputs": [],
   "source": [
    "clean_data = victims_data.copy()"
   ]
  },
  {
   "cell_type": "code",
   "execution_count": 7,
   "metadata": {},
   "outputs": [],
   "source": [
    "translation_victim_age = {\n",
    "    \"not stated\": 998,\n",
    "    \"pregnancy\": 999,\n",
    "}\n",
    "\n",
    "translation_victim_degree_of_injury = {\n",
    "    \"killed\": 1,\n",
    "    \"severe injury\": 2,\n",
    "    \"other visible injury\": 3,\n",
    "    \"complaint of pain\": 4,\n",
    "    \"suspected serious injury\": 5,\n",
    "    \"suspected minor injury\": 6,\n",
    "    \"possible injury\": 7,\n",
    "    \"no injury\": 0,\n",
    "    \"7\": 7,\n",
    "}\n",
    "\n",
    "translation_victim_ejected = {\n",
    "    \"not ejected\": 0,\n",
    "    \"fully ejected\": 1,\n",
    "    \"partially ejected\": 2,\n",
    "    \"unknown\": 3,\n",
    "}\n",
    "\n",
    "translation_victim_role = {\n",
    "    \"driver\": 1,\n",
    "    \"passenger (includes non-operator on bicycle or any victim on/in parked vehicle or multiple victims on/in non-motor vehicle)\": 2,\n",
    "    \"pedestrian\": 3,\n",
    "    \"bicyclist\": 4,\n",
    "    \"other (single victim on/in non-motor vehicle; e.g. ridden animal, horse-drawn carriage, train, or building)\": 5,\n",
    "    \"non-injured party\": 6,\n",
    "}\n",
    "\n",
    "translation_victim_sex = {\n",
    "    \"male\": 'M',\n",
    "    \"female\": 'F',\n",
    "}"
   ]
  },
  {
   "cell_type": "code",
   "execution_count": 8,
   "metadata": {},
   "outputs": [],
   "source": [
    "clean_data[\"victim_degree_of_injury\"] = victims_data[\"victim_degree_of_injury\"].map(lambda s: translation_victim_degree_of_injury.get(s, None)).astype(pd.Int16Dtype())\n",
    "clean_data[\"victim_sex\"] = victims_data[\"victim_sex\"].map(lambda s: translation_victim_sex.get(s, None))\n",
    "clean_data[\"victim_ejected\"] = victims_data[\"victim_ejected\"].map(lambda s: None if pd.isna(s) or s>3 or s <0 else s).astype(pd.Int16Dtype())"
   ]
  },
  {
   "cell_type": "markdown",
   "metadata": {},
   "source": [
    "In victim_ejected column, there were 4 values that were 4. Since 4 is not one of the preset options for victim_ejected we decided to replace the 4's by null"
   ]
  },
  {
   "cell_type": "markdown",
   "metadata": {},
   "source": [
    "---------------------------------------"
   ]
  },
  {
   "cell_type": "markdown",
   "metadata": {},
   "source": [
    "# Create CSV files"
   ]
  },
  {
   "cell_type": "markdown",
   "metadata": {},
   "source": [
    "## Victim CSV"
   ]
  },
  {
   "cell_type": "code",
   "execution_count": 9,
   "metadata": {},
   "outputs": [],
   "source": [
    "clean_parties = load_obj(\"clean_parties\")"
   ]
  },
  {
   "cell_type": "code",
   "execution_count": 10,
   "metadata": {},
   "outputs": [],
   "source": [
    "dict_party_id = dict()\n",
    "for x, party_number in zip(zip(clean_parties[\"case_id\"],clean_parties[\"party_number\"]), clean_parties[\"id\"]):\n",
    "    dict_party_id[x] = party_number"
   ]
  },
  {
   "cell_type": "code",
   "execution_count": 13,
   "metadata": {},
   "outputs": [],
   "source": [
    "tmp_keys= [x for x in dtype_victims.keys() if x not in [\"victim_safety_equipment_1\", \"victim_safety_equipment_2\"]]\n",
    "relevant_keys= [x for x in dtype_victims.keys() \n",
    "                if x not in [\"victim_safety_equipment_1\", \"victim_safety_equipment_2\", \"case_id\", \"party_number\"]]\n",
    "relevant_keys.extend([\"party_id\", \"unborn\"])"
   ]
  },
  {
   "cell_type": "code",
   "execution_count": 14,
   "metadata": {},
   "outputs": [],
   "source": [
    "victims_csv = clean_data[tmp_keys].copy()\n",
    "victims_csv[\"unborn\"] = victims_csv['victim_age'].map(lambda x: None if pd.isna(x) else 'T' if x==999 else 'F')\n",
    "victims_csv[\"victim_age\"] = victims_data[\"victim_age\"].map(lambda age: None if not pd.isna(age) and age == 999 else age).astype(pd.Int16Dtype())\n",
    "victims_csv[\"party_id\"] = list(map(lambda x: dict_party_id[(x[0],x[1])], list(zip(victims_csv[\"case_id\"],  victims_csv[\"party_number\"]))))\n",
    "victims_csv = victims_csv[relevant_keys].copy()"
   ]
  },
  {
   "cell_type": "code",
   "execution_count": 15,
   "metadata": {},
   "outputs": [],
   "source": [
    "victims_csv.to_csv('out/victims.csv', index=False)"
   ]
  },
  {
   "cell_type": "markdown",
   "metadata": {},
   "source": [
    "## safety_equipment relation CSV"
   ]
  },
  {
   "cell_type": "code",
   "execution_count": 25,
   "metadata": {},
   "outputs": [],
   "source": [
    "translate= {\"id\": \"victim_id\", \"victim_safety_equipment_1\": \"safety_equipment_id\", \"victim_safety_equipment_2\": \"safety_equipment_id\"}"
   ]
  },
  {
   "cell_type": "code",
   "execution_count": 39,
   "metadata": {},
   "outputs": [],
   "source": [
    "safety_equipment_1 = clean_data[~clean_data[\"victim_safety_equipment_1\"].isnull()][[\"id\", \"victim_safety_equipment_1\"]].copy().rename(columns=translate)"
   ]
  },
  {
   "cell_type": "code",
   "execution_count": 41,
   "metadata": {},
   "outputs": [],
   "source": [
    "safety_equipement_2 = clean_data[~clean_data[\"victim_safety_equipment_2\"].isnull()][[\"id\", \"victim_safety_equipment_2\"]].copy().rename(columns=translate)"
   ]
  },
  {
   "cell_type": "code",
   "execution_count": 47,
   "metadata": {},
   "outputs": [
    {
     "data": {
      "text/html": [
       "<div>\n",
       "<style scoped>\n",
       "    .dataframe tbody tr th:only-of-type {\n",
       "        vertical-align: middle;\n",
       "    }\n",
       "\n",
       "    .dataframe tbody tr th {\n",
       "        vertical-align: top;\n",
       "    }\n",
       "\n",
       "    .dataframe thead th {\n",
       "        text-align: right;\n",
       "    }\n",
       "</style>\n",
       "<table border=\"1\" class=\"dataframe\">\n",
       "  <thead>\n",
       "    <tr style=\"text-align: right;\">\n",
       "      <th></th>\n",
       "      <th>victim_id</th>\n",
       "      <th>safety_equipment_id</th>\n",
       "    </tr>\n",
       "  </thead>\n",
       "  <tbody>\n",
       "    <tr>\n",
       "      <th>35</th>\n",
       "      <td>38</td>\n",
       "      <td>G</td>\n",
       "    </tr>\n",
       "    <tr>\n",
       "      <th>66</th>\n",
       "      <td>69</td>\n",
       "      <td>G</td>\n",
       "    </tr>\n",
       "    <tr>\n",
       "      <th>114</th>\n",
       "      <td>117</td>\n",
       "      <td>L</td>\n",
       "    </tr>\n",
       "    <tr>\n",
       "      <th>115</th>\n",
       "      <td>118</td>\n",
       "      <td>L</td>\n",
       "    </tr>\n",
       "    <tr>\n",
       "      <th>116</th>\n",
       "      <td>119</td>\n",
       "      <td>C</td>\n",
       "    </tr>\n",
       "    <tr>\n",
       "      <th>...</th>\n",
       "      <td>...</td>\n",
       "      <td>...</td>\n",
       "    </tr>\n",
       "    <tr>\n",
       "      <th>3799842</th>\n",
       "      <td>8476890</td>\n",
       "      <td>G</td>\n",
       "    </tr>\n",
       "    <tr>\n",
       "      <th>3799843</th>\n",
       "      <td>8515485</td>\n",
       "      <td>H</td>\n",
       "    </tr>\n",
       "    <tr>\n",
       "      <th>3799844</th>\n",
       "      <td>8533030</td>\n",
       "      <td>G</td>\n",
       "    </tr>\n",
       "    <tr>\n",
       "      <th>3799845</th>\n",
       "      <td>8533031</td>\n",
       "      <td>G</td>\n",
       "    </tr>\n",
       "    <tr>\n",
       "      <th>4010573</th>\n",
       "      <td>2</td>\n",
       "      <td>G</td>\n",
       "    </tr>\n",
       "  </tbody>\n",
       "</table>\n",
       "<p>1661285 rows × 2 columns</p>\n",
       "</div>"
      ],
      "text/plain": [
       "         victim_id safety_equipment_id\n",
       "35              38                   G\n",
       "66              69                   G\n",
       "114            117                   L\n",
       "115            118                   L\n",
       "116            119                   C\n",
       "...            ...                 ...\n",
       "3799842    8476890                   G\n",
       "3799843    8515485                   H\n",
       "3799844    8533030                   G\n",
       "3799845    8533031                   G\n",
       "4010573          2                   G\n",
       "\n",
       "[1661285 rows x 2 columns]"
      ]
     },
     "execution_count": 47,
     "metadata": {},
     "output_type": "execute_result"
    }
   ],
   "source": [
    "safety_equipement_2"
   ]
  },
  {
   "cell_type": "code",
   "execution_count": 49,
   "metadata": {},
   "outputs": [],
   "source": [
    "safety_equipment_csv = pd.concat([null_safety_equipment, safety_equipment_1, safety_equipement_2], axis=0)"
   ]
  },
  {
   "cell_type": "code",
   "execution_count": 50,
   "metadata": {},
   "outputs": [],
   "source": [
    "sort_safety_equipment_csv = safety_equipment_csv.sort_values(\"victim_id\")"
   ]
  },
  {
   "cell_type": "code",
   "execution_count": 51,
   "metadata": {},
   "outputs": [],
   "source": [
    "sort_safety_equipment_csv.to_csv('out/victim_equiped_with_safety_equipment.csv', index=False)"
   ]
  }
 ],
 "metadata": {
  "kernelspec": {
   "display_name": "Python 3",
   "language": "python",
   "name": "python3"
  },
  "language_info": {
   "codemirror_mode": {
    "name": "ipython",
    "version": 3
   },
   "file_extension": ".py",
   "mimetype": "text/x-python",
   "name": "python",
   "nbconvert_exporter": "python",
   "pygments_lexer": "ipython3",
   "version": "3.8.5"
  }
 },
 "nbformat": 4,
 "nbformat_minor": 5
}
